{
 "cells": [
  {
   "cell_type": "code",
   "execution_count": 1,
   "metadata": {},
   "outputs": [
    {
     "name": "stderr",
     "output_type": "stream",
     "text": [
      "/Users/marcos/Library/Python/3.9/lib/python/site-packages/tqdm/auto.py:21: TqdmWarning: IProgress not found. Please update jupyter and ipywidgets. See https://ipywidgets.readthedocs.io/en/stable/user_install.html\n",
      "  from .autonotebook import tqdm as notebook_tqdm\n"
     ]
    }
   ],
   "source": [
    "import os\n",
    "import pandas as pd\n",
    "import matplotlib.pyplot as plt\n",
    "import seaborn as sns\n",
    "import sweetviz as sv\n",
    "import numpy as np\n",
    "from statsmodels.tsa.seasonal import STL"
   ]
  },
  {
   "cell_type": "code",
   "execution_count": 2,
   "metadata": {},
   "outputs": [
    {
     "name": "stderr",
     "output_type": "stream",
     "text": [
      "/Users/marcos/Library/Python/3.9/lib/python/site-packages/urllib3/__init__.py:35: NotOpenSSLWarning: urllib3 v2 only supports OpenSSL 1.1.1+, currently the 'ssl' module is compiled with 'LibreSSL 2.8.3'. See: https://github.com/urllib3/urllib3/issues/3020\n",
      "  warnings.warn(\n"
     ]
    }
   ],
   "source": [
    "import tensorflow as tf\n",
    "import keras"
   ]
  },
  {
   "cell_type": "code",
   "execution_count": 3,
   "metadata": {},
   "outputs": [],
   "source": [
    "df_price = pd.read_csv('agrodata.csv')\n",
    "df_weather = pd.read_csv('agroweather_data.csv')"
   ]
  },
  {
   "cell_type": "code",
   "execution_count": 4,
   "metadata": {},
   "outputs": [
    {
     "data": {
      "text/plain": [
       "0       74.0\n",
       "1       81.0\n",
       "2       77.0\n",
       "3       73.0\n",
       "4       67.0\n",
       "       ...  \n",
       "983    125.0\n",
       "984    125.0\n",
       "985    124.0\n",
       "986    122.0\n",
       "987    115.0\n",
       "Name: Price, Length: 988, dtype: float64"
      ]
     },
     "execution_count": 4,
     "metadata": {},
     "output_type": "execute_result"
    }
   ],
   "source": [
    "df_price['Price'] = df_price['Price'].astype(float)\n",
    "Price = df_price['Price']\n",
    "Price"
   ]
  },
  {
   "cell_type": "code",
   "execution_count": 5,
   "metadata": {},
   "outputs": [],
   "source": [
    "def df_to_X_y(df, window_size = 5):\n",
    "    df_as_np = df.to_numpy()\n",
    "    X = []\n",
    "    y = []\n",
    "    for i in range(len(df_as_np)-window_size):\n",
    "        row = [[a] for a in df_as_np[i:i+5]]\n",
    "        X.append(row)\n",
    "        label = df_as_np[i+5]\n",
    "        y.append(label)\n",
    "    return np.array(X), np.array(y)"
   ]
  },
  {
   "cell_type": "code",
   "execution_count": 31,
   "metadata": {},
   "outputs": [],
   "source": [
    "train = Price[:365]\n",
    "val = Price[365:730]\n",
    "test = Price[730:]"
   ]
  },
  {
   "cell_type": "code",
   "execution_count": 32,
   "metadata": {},
   "outputs": [
    {
     "data": {
      "text/plain": [
       "((360, 5, 1), (360,))"
      ]
     },
     "execution_count": 32,
     "metadata": {},
     "output_type": "execute_result"
    }
   ],
   "source": [
    "WINDOW_SIZE = 5\n",
    "X, y = df_to_X_y(train, WINDOW_SIZE)\n",
    "X.shape, y.shape"
   ]
  },
  {
   "cell_type": "code",
   "execution_count": 33,
   "metadata": {},
   "outputs": [
    {
     "data": {
      "text/plain": [
       "((253, 5, 1), (253,))"
      ]
     },
     "execution_count": 33,
     "metadata": {},
     "output_type": "execute_result"
    }
   ],
   "source": [
    "X_test, y_test = df_to_X_y(test, WINDOW_SIZE)\n",
    "X_test.shape, y_test.shape"
   ]
  },
  {
   "cell_type": "code",
   "execution_count": 34,
   "metadata": {},
   "outputs": [
    {
     "data": {
      "text/plain": [
       "((360, 5, 1), (360,))"
      ]
     },
     "execution_count": 34,
     "metadata": {},
     "output_type": "execute_result"
    }
   ],
   "source": [
    "X_val, y_val = df_to_X_y(val, WINDOW_SIZE)\n",
    "X_val.shape, y_val.shape"
   ]
  },
  {
   "cell_type": "code",
   "execution_count": 35,
   "metadata": {},
   "outputs": [
    {
     "data": {
      "text/plain": [
       "array([[242.],\n",
       "       [170.],\n",
       "       [149.],\n",
       "       [146.],\n",
       "       [137.]])"
      ]
     },
     "execution_count": 35,
     "metadata": {},
     "output_type": "execute_result"
    }
   ],
   "source": [
    "X_test[0] # Estamos usando 5 días para producir una predicción de 1 día, es decir, usamos los 5 días anteriores incluyendo hoy, para realizar la predicción de mañana.9"
   ]
  },
  {
   "cell_type": "code",
   "execution_count": 36,
   "metadata": {},
   "outputs": [
    {
     "data": {
      "text/plain": [
       "162.0"
      ]
     },
     "execution_count": 36,
     "metadata": {},
     "output_type": "execute_result"
    }
   ],
   "source": [
    "y_test[0]"
   ]
  },
  {
   "cell_type": "code",
   "execution_count": 37,
   "metadata": {},
   "outputs": [
    {
     "data": {
      "text/plain": [
       "((360, 5, 1), (360,))"
      ]
     },
     "execution_count": 37,
     "metadata": {},
     "output_type": "execute_result"
    }
   ],
   "source": [
    "X_val, y_val = df_to_X_y(val, WINDOW_SIZE)\n",
    "X_val.shape, y_val.shape"
   ]
  },
  {
   "cell_type": "code",
   "execution_count": 38,
   "metadata": {},
   "outputs": [],
   "source": [
    "from sklearn.model_selection import TimeSeriesSplit\n",
    "from sklearn.metrics import mean_squared_error\n",
    "from math import sqrt"
   ]
  },
  {
   "cell_type": "code",
   "execution_count": 39,
   "metadata": {},
   "outputs": [],
   "source": [
    "from tensorflow.keras.models import Sequential\n",
    "from tensorflow.keras.layers import *\n",
    "from tensorflow.keras.callbacks import ModelCheckpoint, EarlyStopping\n",
    "from tensorflow.keras.losses import MeanSquaredError\n",
    "from tensorflow.keras.metrics import RootMeanSquaredError\n",
    "from tensorflow.keras.optimizers import Adam\n",
    "from keras import regularizers"
   ]
  },
  {
   "cell_type": "code",
   "execution_count": 40,
   "metadata": {},
   "outputs": [
    {
     "data": {
      "text/html": [
       "<pre style=\"white-space:pre;overflow-x:auto;line-height:normal;font-family:Menlo,'DejaVu Sans Mono',consolas,'Courier New',monospace\"><span style=\"font-weight: bold\">Model: \"sequential_1\"</span>\n",
       "</pre>\n"
      ],
      "text/plain": [
       "\u001b[1mModel: \"sequential_1\"\u001b[0m\n"
      ]
     },
     "metadata": {},
     "output_type": "display_data"
    },
    {
     "data": {
      "text/html": [
       "<pre style=\"white-space:pre;overflow-x:auto;line-height:normal;font-family:Menlo,'DejaVu Sans Mono',consolas,'Courier New',monospace\">┏━━━━━━━━━━━━━━━━━━━━━━━━━━━━━━━━━┳━━━━━━━━━━━━━━━━━━━━━━━━┳━━━━━━━━━━━━━━━┓\n",
       "┃<span style=\"font-weight: bold\"> Layer (type)                    </span>┃<span style=\"font-weight: bold\"> Output Shape           </span>┃<span style=\"font-weight: bold\">       Param # </span>┃\n",
       "┡━━━━━━━━━━━━━━━━━━━━━━━━━━━━━━━━━╇━━━━━━━━━━━━━━━━━━━━━━━━╇━━━━━━━━━━━━━━━┩\n",
       "│ lstm_1 (<span style=\"color: #0087ff; text-decoration-color: #0087ff\">LSTM</span>)                   │ (<span style=\"color: #00d7ff; text-decoration-color: #00d7ff\">None</span>, <span style=\"color: #00af00; text-decoration-color: #00af00\">64</span>)             │        <span style=\"color: #00af00; text-decoration-color: #00af00\">16,896</span> │\n",
       "├─────────────────────────────────┼────────────────────────┼───────────────┤\n",
       "│ dense_3 (<span style=\"color: #0087ff; text-decoration-color: #0087ff\">Dense</span>)                 │ (<span style=\"color: #00d7ff; text-decoration-color: #00d7ff\">None</span>, <span style=\"color: #00af00; text-decoration-color: #00af00\">10</span>)             │           <span style=\"color: #00af00; text-decoration-color: #00af00\">650</span> │\n",
       "├─────────────────────────────────┼────────────────────────┼───────────────┤\n",
       "│ dense_4 (<span style=\"color: #0087ff; text-decoration-color: #0087ff\">Dense</span>)                 │ (<span style=\"color: #00d7ff; text-decoration-color: #00d7ff\">None</span>, <span style=\"color: #00af00; text-decoration-color: #00af00\">10</span>)             │           <span style=\"color: #00af00; text-decoration-color: #00af00\">110</span> │\n",
       "├─────────────────────────────────┼────────────────────────┼───────────────┤\n",
       "│ dense_5 (<span style=\"color: #0087ff; text-decoration-color: #0087ff\">Dense</span>)                 │ (<span style=\"color: #00d7ff; text-decoration-color: #00d7ff\">None</span>, <span style=\"color: #00af00; text-decoration-color: #00af00\">1</span>)              │            <span style=\"color: #00af00; text-decoration-color: #00af00\">11</span> │\n",
       "└─────────────────────────────────┴────────────────────────┴───────────────┘\n",
       "</pre>\n"
      ],
      "text/plain": [
       "┏━━━━━━━━━━━━━━━━━━━━━━━━━━━━━━━━━┳━━━━━━━━━━━━━━━━━━━━━━━━┳━━━━━━━━━━━━━━━┓\n",
       "┃\u001b[1m \u001b[0m\u001b[1mLayer (type)                   \u001b[0m\u001b[1m \u001b[0m┃\u001b[1m \u001b[0m\u001b[1mOutput Shape          \u001b[0m\u001b[1m \u001b[0m┃\u001b[1m \u001b[0m\u001b[1m      Param #\u001b[0m\u001b[1m \u001b[0m┃\n",
       "┡━━━━━━━━━━━━━━━━━━━━━━━━━━━━━━━━━╇━━━━━━━━━━━━━━━━━━━━━━━━╇━━━━━━━━━━━━━━━┩\n",
       "│ lstm_1 (\u001b[38;5;33mLSTM\u001b[0m)                   │ (\u001b[38;5;45mNone\u001b[0m, \u001b[38;5;34m64\u001b[0m)             │        \u001b[38;5;34m16,896\u001b[0m │\n",
       "├─────────────────────────────────┼────────────────────────┼───────────────┤\n",
       "│ dense_3 (\u001b[38;5;33mDense\u001b[0m)                 │ (\u001b[38;5;45mNone\u001b[0m, \u001b[38;5;34m10\u001b[0m)             │           \u001b[38;5;34m650\u001b[0m │\n",
       "├─────────────────────────────────┼────────────────────────┼───────────────┤\n",
       "│ dense_4 (\u001b[38;5;33mDense\u001b[0m)                 │ (\u001b[38;5;45mNone\u001b[0m, \u001b[38;5;34m10\u001b[0m)             │           \u001b[38;5;34m110\u001b[0m │\n",
       "├─────────────────────────────────┼────────────────────────┼───────────────┤\n",
       "│ dense_5 (\u001b[38;5;33mDense\u001b[0m)                 │ (\u001b[38;5;45mNone\u001b[0m, \u001b[38;5;34m1\u001b[0m)              │            \u001b[38;5;34m11\u001b[0m │\n",
       "└─────────────────────────────────┴────────────────────────┴───────────────┘\n"
      ]
     },
     "metadata": {},
     "output_type": "display_data"
    },
    {
     "data": {
      "text/html": [
       "<pre style=\"white-space:pre;overflow-x:auto;line-height:normal;font-family:Menlo,'DejaVu Sans Mono',consolas,'Courier New',monospace\"><span style=\"font-weight: bold\"> Total params: </span><span style=\"color: #00af00; text-decoration-color: #00af00\">17,667</span> (69.01 KB)\n",
       "</pre>\n"
      ],
      "text/plain": [
       "\u001b[1m Total params: \u001b[0m\u001b[38;5;34m17,667\u001b[0m (69.01 KB)\n"
      ]
     },
     "metadata": {},
     "output_type": "display_data"
    },
    {
     "data": {
      "text/html": [
       "<pre style=\"white-space:pre;overflow-x:auto;line-height:normal;font-family:Menlo,'DejaVu Sans Mono',consolas,'Courier New',monospace\"><span style=\"font-weight: bold\"> Trainable params: </span><span style=\"color: #00af00; text-decoration-color: #00af00\">17,667</span> (69.01 KB)\n",
       "</pre>\n"
      ],
      "text/plain": [
       "\u001b[1m Trainable params: \u001b[0m\u001b[38;5;34m17,667\u001b[0m (69.01 KB)\n"
      ]
     },
     "metadata": {},
     "output_type": "display_data"
    },
    {
     "data": {
      "text/html": [
       "<pre style=\"white-space:pre;overflow-x:auto;line-height:normal;font-family:Menlo,'DejaVu Sans Mono',consolas,'Courier New',monospace\"><span style=\"font-weight: bold\"> Non-trainable params: </span><span style=\"color: #00af00; text-decoration-color: #00af00\">0</span> (0.00 B)\n",
       "</pre>\n"
      ],
      "text/plain": [
       "\u001b[1m Non-trainable params: \u001b[0m\u001b[38;5;34m0\u001b[0m (0.00 B)\n"
      ]
     },
     "metadata": {},
     "output_type": "display_data"
    }
   ],
   "source": [
    "model = Sequential()\n",
    "model.add(InputLayer((5, 1)))\n",
    "model.add(LSTM((64), kernel_regularizer=regularizers.l2(0.01)))\n",
    "model.add(Dense(10, activation = 'relu'))\n",
    "model.add(Dense(10, activation = 'relu'))\n",
    "model.add(Dense(1, 'linear'))\n",
    "\n",
    "model.summary()"
   ]
  },
  {
   "cell_type": "code",
   "execution_count": 41,
   "metadata": {},
   "outputs": [],
   "source": [
    "cp = ModelCheckpoint('model1.keras', save_best_only=True)\n",
    "model.compile(loss=MeanSquaredError(), optimizer = Adam(learning_rate = 0.001), metrics=[RootMeanSquaredError()])"
   ]
  },
  {
   "cell_type": "code",
   "execution_count": 42,
   "metadata": {},
   "outputs": [],
   "source": [
    "early_stopping = EarlyStopping(monitor = 'val_loss', patience = 25, verbose = 1, restore_best_weights=True)"
   ]
  },
  {
   "cell_type": "code",
   "execution_count": 43,
   "metadata": {},
   "outputs": [
    {
     "name": "stdout",
     "output_type": "stream",
     "text": [
      "Epoch 1/250\n",
      "\u001b[1m12/12\u001b[0m \u001b[32m━━━━━━━━━━━━━━━━━━━━\u001b[0m\u001b[37m\u001b[0m \u001b[1m1s\u001b[0m 17ms/step - loss: 13946.6982 - root_mean_squared_error: 118.0767 - val_loss: 25655.4668 - val_root_mean_squared_error: 143.1426\n",
      "Epoch 2/250\n",
      "\u001b[1m12/12\u001b[0m \u001b[32m━━━━━━━━━━━━━━━━━━━━\u001b[0m\u001b[37m\u001b[0m \u001b[1m0s\u001b[0m 8ms/step - loss: 12404.5420 - root_mean_squared_error: 111.2367 - val_loss: 25530.6504 - val_root_mean_squared_error: 142.7467\n",
      "Epoch 3/250\n",
      "\u001b[1m12/12\u001b[0m \u001b[32m━━━━━━━━━━━━━━━━━━━━\u001b[0m\u001b[37m\u001b[0m \u001b[1m0s\u001b[0m 5ms/step - loss: 12070.6807 - root_mean_squared_error: 109.7360 - val_loss: 25405.5410 - val_root_mean_squared_error: 142.3409\n",
      "Epoch 4/250\n",
      "\u001b[1m12/12\u001b[0m \u001b[32m━━━━━━━━━━━━━━━━━━━━\u001b[0m\u001b[37m\u001b[0m \u001b[1m0s\u001b[0m 5ms/step - loss: 14533.5586 - root_mean_squared_error: 120.2832 - val_loss: 25236.2715 - val_root_mean_squared_error: 141.7850\n",
      "Epoch 5/250\n",
      "\u001b[1m12/12\u001b[0m \u001b[32m━━━━━━━━━━━━━━━━━━━━\u001b[0m\u001b[37m\u001b[0m \u001b[1m0s\u001b[0m 5ms/step - loss: 13652.4824 - root_mean_squared_error: 116.8695 - val_loss: 24861.8496 - val_root_mean_squared_error: 140.5204\n",
      "Epoch 6/250\n",
      "\u001b[1m12/12\u001b[0m \u001b[32m━━━━━━━━━━━━━━━━━━━━\u001b[0m\u001b[37m\u001b[0m \u001b[1m0s\u001b[0m 5ms/step - loss: 14273.7227 - root_mean_squared_error: 118.8463 - val_loss: 24025.7988 - val_root_mean_squared_error: 137.7734\n",
      "Epoch 7/250\n",
      "\u001b[1m12/12\u001b[0m \u001b[32m━━━━━━━━━━━━━━━━━━━━\u001b[0m\u001b[37m\u001b[0m \u001b[1m0s\u001b[0m 5ms/step - loss: 12949.0459 - root_mean_squared_error: 113.8899 - val_loss: 22904.8750 - val_root_mean_squared_error: 134.0168\n",
      "Epoch 8/250\n",
      "\u001b[1m12/12\u001b[0m \u001b[32m━━━━━━━━━━━━━━━━━━━━\u001b[0m\u001b[37m\u001b[0m \u001b[1m0s\u001b[0m 5ms/step - loss: 11200.9541 - root_mean_squared_error: 106.0208 - val_loss: 21523.3164 - val_root_mean_squared_error: 129.3059\n",
      "Epoch 9/250\n",
      "\u001b[1m12/12\u001b[0m \u001b[32m━━━━━━━━━━━━━━━━━━━━\u001b[0m\u001b[37m\u001b[0m \u001b[1m0s\u001b[0m 4ms/step - loss: 11891.0996 - root_mean_squared_error: 108.8573 - val_loss: 20089.1855 - val_root_mean_squared_error: 124.2276\n",
      "Epoch 10/250\n",
      "\u001b[1m12/12\u001b[0m \u001b[32m━━━━━━━━━━━━━━━━━━━━\u001b[0m\u001b[37m\u001b[0m \u001b[1m0s\u001b[0m 5ms/step - loss: 9053.4580 - root_mean_squared_error: 95.0029 - val_loss: 18436.5723 - val_root_mean_squared_error: 118.1981\n",
      "Epoch 11/250\n",
      "\u001b[1m12/12\u001b[0m \u001b[32m━━━━━━━━━━━━━━━━━━━━\u001b[0m\u001b[37m\u001b[0m \u001b[1m0s\u001b[0m 4ms/step - loss: 7917.1465 - root_mean_squared_error: 89.1037 - val_loss: 16816.2910 - val_root_mean_squared_error: 112.0365\n",
      "Epoch 12/250\n",
      "\u001b[1m12/12\u001b[0m \u001b[32m━━━━━━━━━━━━━━━━━━━━\u001b[0m\u001b[37m\u001b[0m \u001b[1m0s\u001b[0m 4ms/step - loss: 6538.9253 - root_mean_squared_error: 80.5850 - val_loss: 15238.4307 - val_root_mean_squared_error: 105.6048\n",
      "Epoch 13/250\n",
      "\u001b[1m12/12\u001b[0m \u001b[32m━━━━━━━━━━━━━━━━━━━━\u001b[0m\u001b[37m\u001b[0m \u001b[1m0s\u001b[0m 4ms/step - loss: 5633.8892 - root_mean_squared_error: 75.0966 - val_loss: 13428.9736 - val_root_mean_squared_error: 97.8968\n",
      "Epoch 14/250\n",
      "\u001b[1m12/12\u001b[0m \u001b[32m━━━━━━━━━━━━━━━━━━━━\u001b[0m\u001b[37m\u001b[0m \u001b[1m0s\u001b[0m 4ms/step - loss: 5994.9688 - root_mean_squared_error: 77.2457 - val_loss: 11657.8838 - val_root_mean_squared_error: 89.9642\n",
      "Epoch 15/250\n",
      "\u001b[1m12/12\u001b[0m \u001b[32m━━━━━━━━━━━━━━━━━━━━\u001b[0m\u001b[37m\u001b[0m \u001b[1m0s\u001b[0m 5ms/step - loss: 3666.8096 - root_mean_squared_error: 60.2253 - val_loss: 10211.8311 - val_root_mean_squared_error: 83.2345\n",
      "Epoch 16/250\n",
      "\u001b[1m12/12\u001b[0m \u001b[32m━━━━━━━━━━━━━━━━━━━━\u001b[0m\u001b[37m\u001b[0m \u001b[1m0s\u001b[0m 5ms/step - loss: 3259.6904 - root_mean_squared_error: 56.8815 - val_loss: 9187.4219 - val_root_mean_squared_error: 78.4333\n",
      "Epoch 17/250\n",
      "\u001b[1m12/12\u001b[0m \u001b[32m━━━━━━━━━━━━━━━━━━━━\u001b[0m\u001b[37m\u001b[0m \u001b[1m0s\u001b[0m 4ms/step - loss: 2931.7336 - root_mean_squared_error: 54.1616 - val_loss: 8577.2637 - val_root_mean_squared_error: 75.4865\n",
      "Epoch 18/250\n",
      "\u001b[1m12/12\u001b[0m \u001b[32m━━━━━━━━━━━━━━━━━━━━\u001b[0m\u001b[37m\u001b[0m \u001b[1m0s\u001b[0m 4ms/step - loss: 2936.2039 - root_mean_squared_error: 53.9923 - val_loss: 8146.3462 - val_root_mean_squared_error: 73.3592\n",
      "Epoch 19/250\n",
      "\u001b[1m12/12\u001b[0m \u001b[32m━━━━━━━━━━━━━━━━━━━━\u001b[0m\u001b[37m\u001b[0m \u001b[1m0s\u001b[0m 5ms/step - loss: 3490.8938 - root_mean_squared_error: 58.4169 - val_loss: 7912.9800 - val_root_mean_squared_error: 72.5283\n",
      "Epoch 20/250\n",
      "\u001b[1m12/12\u001b[0m \u001b[32m━━━━━━━━━━━━━━━━━━━━\u001b[0m\u001b[37m\u001b[0m \u001b[1m0s\u001b[0m 4ms/step - loss: 2870.2212 - root_mean_squared_error: 53.4989 - val_loss: 7295.8140 - val_root_mean_squared_error: 68.9180\n",
      "Epoch 21/250\n",
      "\u001b[1m12/12\u001b[0m \u001b[32m━━━━━━━━━━━━━━━━━━━━\u001b[0m\u001b[37m\u001b[0m \u001b[1m0s\u001b[0m 4ms/step - loss: 1987.9587 - root_mean_squared_error: 43.4024 - val_loss: 6853.7866 - val_root_mean_squared_error: 66.5440\n",
      "Epoch 22/250\n",
      "\u001b[1m12/12\u001b[0m \u001b[32m━━━━━━━━━━━━━━━━━━━━\u001b[0m\u001b[37m\u001b[0m \u001b[1m0s\u001b[0m 4ms/step - loss: 2268.5586 - root_mean_squared_error: 47.6807 - val_loss: 6437.1431 - val_root_mean_squared_error: 64.5452\n",
      "Epoch 23/250\n",
      "\u001b[1m12/12\u001b[0m \u001b[32m━━━━━━━━━━━━━━━━━━━━\u001b[0m\u001b[37m\u001b[0m \u001b[1m0s\u001b[0m 4ms/step - loss: 1772.8590 - root_mean_squared_error: 41.7119 - val_loss: 5923.3711 - val_root_mean_squared_error: 61.5285\n",
      "Epoch 24/250\n",
      "\u001b[1m12/12\u001b[0m \u001b[32m━━━━━━━━━━━━━━━━━━━━\u001b[0m\u001b[37m\u001b[0m \u001b[1m0s\u001b[0m 4ms/step - loss: 1593.0273 - root_mean_squared_error: 39.8462 - val_loss: 5448.0381 - val_root_mean_squared_error: 58.7320\n",
      "Epoch 25/250\n",
      "\u001b[1m12/12\u001b[0m \u001b[32m━━━━━━━━━━━━━━━━━━━━\u001b[0m\u001b[37m\u001b[0m \u001b[1m0s\u001b[0m 5ms/step - loss: 2190.9331 - root_mean_squared_error: 46.1877 - val_loss: 5014.1187 - val_root_mean_squared_error: 56.1869\n",
      "Epoch 26/250\n",
      "\u001b[1m12/12\u001b[0m \u001b[32m━━━━━━━━━━━━━━━━━━━━\u001b[0m\u001b[37m\u001b[0m \u001b[1m0s\u001b[0m 5ms/step - loss: 2092.0132 - root_mean_squared_error: 45.7201 - val_loss: 4655.0425 - val_root_mean_squared_error: 54.0902\n",
      "Epoch 27/250\n",
      "\u001b[1m12/12\u001b[0m \u001b[32m━━━━━━━━━━━━━━━━━━━━\u001b[0m\u001b[37m\u001b[0m \u001b[1m0s\u001b[0m 6ms/step - loss: 1528.0237 - root_mean_squared_error: 38.9814 - val_loss: 4287.4517 - val_root_mean_squared_error: 51.7683\n",
      "Epoch 28/250\n",
      "\u001b[1m12/12\u001b[0m \u001b[32m━━━━━━━━━━━━━━━━━━━━\u001b[0m\u001b[37m\u001b[0m \u001b[1m0s\u001b[0m 5ms/step - loss: 1152.8102 - root_mean_squared_error: 31.0175 - val_loss: 3992.0867 - val_root_mean_squared_error: 49.9127\n",
      "Epoch 29/250\n",
      "\u001b[1m12/12\u001b[0m \u001b[32m━━━━━━━━━━━━━━━━━━━━\u001b[0m\u001b[37m\u001b[0m \u001b[1m0s\u001b[0m 5ms/step - loss: 911.1200 - root_mean_squared_error: 29.1493 - val_loss: 3618.1267 - val_root_mean_squared_error: 47.4911\n",
      "Epoch 30/250\n",
      "\u001b[1m12/12\u001b[0m \u001b[32m━━━━━━━━━━━━━━━━━━━━\u001b[0m\u001b[37m\u001b[0m \u001b[1m0s\u001b[0m 6ms/step - loss: 938.8678 - root_mean_squared_error: 29.8696 - val_loss: 3316.1230 - val_root_mean_squared_error: 45.4699\n",
      "Epoch 31/250\n",
      "\u001b[1m12/12\u001b[0m \u001b[32m━━━━━━━━━━━━━━━━━━━━\u001b[0m\u001b[37m\u001b[0m \u001b[1m0s\u001b[0m 4ms/step - loss: 758.4954 - root_mean_squared_error: 26.9754 - val_loss: 3045.4973 - val_root_mean_squared_error: 43.5970\n",
      "Epoch 32/250\n",
      "\u001b[1m12/12\u001b[0m \u001b[32m━━━━━━━━━━━━━━━━━━━━\u001b[0m\u001b[37m\u001b[0m \u001b[1m0s\u001b[0m 4ms/step - loss: 1968.6025 - root_mean_squared_error: 43.6196 - val_loss: 2781.2605 - val_root_mean_squared_error: 41.6684\n",
      "Epoch 33/250\n",
      "\u001b[1m12/12\u001b[0m \u001b[32m━━━━━━━━━━━━━━━━━━━━\u001b[0m\u001b[37m\u001b[0m \u001b[1m0s\u001b[0m 4ms/step - loss: 858.7123 - root_mean_squared_error: 28.3806 - val_loss: 2595.8218 - val_root_mean_squared_error: 40.3177\n",
      "Epoch 34/250\n",
      "\u001b[1m12/12\u001b[0m \u001b[32m━━━━━━━━━━━━━━━━━━━━\u001b[0m\u001b[37m\u001b[0m \u001b[1m0s\u001b[0m 4ms/step - loss: 851.9617 - root_mean_squared_error: 28.3235 - val_loss: 2414.7893 - val_root_mean_squared_error: 38.9662\n",
      "Epoch 35/250\n",
      "\u001b[1m12/12\u001b[0m \u001b[32m━━━━━━━━━━━━━━━━━━━━\u001b[0m\u001b[37m\u001b[0m \u001b[1m0s\u001b[0m 5ms/step - loss: 1293.3989 - root_mean_squared_error: 35.1042 - val_loss: 2221.3630 - val_root_mean_squared_error: 37.4673\n",
      "Epoch 36/250\n",
      "\u001b[1m12/12\u001b[0m \u001b[32m━━━━━━━━━━━━━━━━━━━━\u001b[0m\u001b[37m\u001b[0m \u001b[1m0s\u001b[0m 4ms/step - loss: 1183.2375 - root_mean_squared_error: 33.4211 - val_loss: 2054.9993 - val_root_mean_squared_error: 36.1325\n",
      "Epoch 37/250\n",
      "\u001b[1m12/12\u001b[0m \u001b[32m━━━━━━━━━━━━━━━━━━━━\u001b[0m\u001b[37m\u001b[0m \u001b[1m0s\u001b[0m 4ms/step - loss: 1191.8058 - root_mean_squared_error: 33.7496 - val_loss: 1900.6862 - val_root_mean_squared_error: 34.7629\n",
      "Epoch 38/250\n",
      "\u001b[1m12/12\u001b[0m \u001b[32m━━━━━━━━━━━━━━━━━━━━\u001b[0m\u001b[37m\u001b[0m \u001b[1m0s\u001b[0m 4ms/step - loss: 1082.1273 - root_mean_squared_error: 32.0824 - val_loss: 1746.4017 - val_root_mean_squared_error: 33.4305\n",
      "Epoch 39/250\n",
      "\u001b[1m12/12\u001b[0m \u001b[32m━━━━━━━━━━━━━━━━━━━━\u001b[0m\u001b[37m\u001b[0m \u001b[1m0s\u001b[0m 4ms/step - loss: 651.2914 - root_mean_squared_error: 25.0401 - val_loss: 1624.5742 - val_root_mean_squared_error: 32.3609\n",
      "Epoch 40/250\n",
      "\u001b[1m12/12\u001b[0m \u001b[32m━━━━━━━━━━━━━━━━━━━━\u001b[0m\u001b[37m\u001b[0m \u001b[1m0s\u001b[0m 4ms/step - loss: 1336.2324 - root_mean_squared_error: 35.5737 - val_loss: 1492.0248 - val_root_mean_squared_error: 31.1043\n",
      "Epoch 41/250\n",
      "\u001b[1m12/12\u001b[0m \u001b[32m━━━━━━━━━━━━━━━━━━━━\u001b[0m\u001b[37m\u001b[0m \u001b[1m0s\u001b[0m 4ms/step - loss: 908.8419 - root_mean_squared_error: 30.0276 - val_loss: 1378.3549 - val_root_mean_squared_error: 30.0564\n",
      "Epoch 42/250\n",
      "\u001b[1m12/12\u001b[0m \u001b[32m━━━━━━━━━━━━━━━━━━━━\u001b[0m\u001b[37m\u001b[0m \u001b[1m0s\u001b[0m 4ms/step - loss: 494.7994 - root_mean_squared_error: 21.4519 - val_loss: 1335.3990 - val_root_mean_squared_error: 29.8850\n",
      "Epoch 43/250\n",
      "\u001b[1m12/12\u001b[0m \u001b[32m━━━━━━━━━━━━━━━━━━━━\u001b[0m\u001b[37m\u001b[0m \u001b[1m0s\u001b[0m 5ms/step - loss: 1203.4956 - root_mean_squared_error: 33.9201 - val_loss: 1181.9487 - val_root_mean_squared_error: 28.0283\n",
      "Epoch 44/250\n",
      "\u001b[1m12/12\u001b[0m \u001b[32m━━━━━━━━━━━━━━━━━━━━\u001b[0m\u001b[37m\u001b[0m \u001b[1m0s\u001b[0m 5ms/step - loss: 930.5808 - root_mean_squared_error: 29.7975 - val_loss: 1076.9741 - val_root_mean_squared_error: 26.9171\n",
      "Epoch 45/250\n",
      "\u001b[1m12/12\u001b[0m \u001b[32m━━━━━━━━━━━━━━━━━━━━\u001b[0m\u001b[37m\u001b[0m \u001b[1m0s\u001b[0m 4ms/step - loss: 731.2855 - root_mean_squared_error: 26.4906 - val_loss: 1005.3610 - val_root_mean_squared_error: 26.0836\n",
      "Epoch 46/250\n",
      "\u001b[1m12/12\u001b[0m \u001b[32m━━━━━━━━━━━━━━━━━━━━\u001b[0m\u001b[37m\u001b[0m \u001b[1m0s\u001b[0m 4ms/step - loss: 979.0261 - root_mean_squared_error: 31.0075 - val_loss: 933.7922 - val_root_mean_squared_error: 25.4471\n",
      "Epoch 47/250\n",
      "\u001b[1m12/12\u001b[0m \u001b[32m━━━━━━━━━━━━━━━━━━━━\u001b[0m\u001b[37m\u001b[0m \u001b[1m0s\u001b[0m 4ms/step - loss: 429.3618 - root_mean_squared_error: 17.7697 - val_loss: 858.6110 - val_root_mean_squared_error: 24.3853\n",
      "Epoch 48/250\n",
      "\u001b[1m12/12\u001b[0m \u001b[32m━━━━━━━━━━━━━━━━━━━━\u001b[0m\u001b[37m\u001b[0m \u001b[1m0s\u001b[0m 4ms/step - loss: 652.0803 - root_mean_squared_error: 25.2131 - val_loss: 744.2621 - val_root_mean_squared_error: 23.1239\n",
      "Epoch 49/250\n",
      "\u001b[1m12/12\u001b[0m \u001b[32m━━━━━━━━━━━━━━━━━━━━\u001b[0m\u001b[37m\u001b[0m \u001b[1m0s\u001b[0m 4ms/step - loss: 928.6388 - root_mean_squared_error: 30.1809 - val_loss: 674.8679 - val_root_mean_squared_error: 22.2655\n",
      "Epoch 50/250\n",
      "\u001b[1m12/12\u001b[0m \u001b[32m━━━━━━━━━━━━━━━━━━━━\u001b[0m\u001b[37m\u001b[0m \u001b[1m0s\u001b[0m 4ms/step - loss: 938.5350 - root_mean_squared_error: 28.8292 - val_loss: 698.4614 - val_root_mean_squared_error: 22.4275\n",
      "Epoch 51/250\n",
      "\u001b[1m12/12\u001b[0m \u001b[32m━━━━━━━━━━━━━━━━━━━━\u001b[0m\u001b[37m\u001b[0m \u001b[1m0s\u001b[0m 5ms/step - loss: 541.5278 - root_mean_squared_error: 22.6747 - val_loss: 614.6865 - val_root_mean_squared_error: 21.2682\n",
      "Epoch 52/250\n",
      "\u001b[1m12/12\u001b[0m \u001b[32m━━━━━━━━━━━━━━━━━━━━\u001b[0m\u001b[37m\u001b[0m \u001b[1m0s\u001b[0m 4ms/step - loss: 512.7855 - root_mean_squared_error: 22.4037 - val_loss: 561.7741 - val_root_mean_squared_error: 20.4602\n",
      "Epoch 53/250\n",
      "\u001b[1m12/12\u001b[0m \u001b[32m━━━━━━━━━━━━━━━━━━━━\u001b[0m\u001b[37m\u001b[0m \u001b[1m0s\u001b[0m 5ms/step - loss: 614.9919 - root_mean_squared_error: 24.5840 - val_loss: 530.2063 - val_root_mean_squared_error: 20.1598\n",
      "Epoch 54/250\n",
      "\u001b[1m12/12\u001b[0m \u001b[32m━━━━━━━━━━━━━━━━━━━━\u001b[0m\u001b[37m\u001b[0m \u001b[1m0s\u001b[0m 3ms/step - loss: 485.5591 - root_mean_squared_error: 21.5426 - val_loss: 539.5864 - val_root_mean_squared_error: 20.7544\n",
      "Epoch 55/250\n",
      "\u001b[1m12/12\u001b[0m \u001b[32m━━━━━━━━━━━━━━━━━━━━\u001b[0m\u001b[37m\u001b[0m \u001b[1m0s\u001b[0m 4ms/step - loss: 671.0526 - root_mean_squared_error: 25.8343 - val_loss: 463.1172 - val_root_mean_squared_error: 19.1660\n",
      "Epoch 56/250\n",
      "\u001b[1m12/12\u001b[0m \u001b[32m━━━━━━━━━━━━━━━━━━━━\u001b[0m\u001b[37m\u001b[0m \u001b[1m0s\u001b[0m 4ms/step - loss: 502.9698 - root_mean_squared_error: 22.2707 - val_loss: 441.7592 - val_root_mean_squared_error: 18.8183\n",
      "Epoch 57/250\n",
      "\u001b[1m12/12\u001b[0m \u001b[32m━━━━━━━━━━━━━━━━━━━━\u001b[0m\u001b[37m\u001b[0m \u001b[1m0s\u001b[0m 4ms/step - loss: 583.3665 - root_mean_squared_error: 22.8725 - val_loss: 410.5937 - val_root_mean_squared_error: 18.1155\n",
      "Epoch 58/250\n",
      "\u001b[1m12/12\u001b[0m \u001b[32m━━━━━━━━━━━━━━━━━━━━\u001b[0m\u001b[37m\u001b[0m \u001b[1m0s\u001b[0m 4ms/step - loss: 431.6228 - root_mean_squared_error: 20.2759 - val_loss: 349.4577 - val_root_mean_squared_error: 17.0842\n",
      "Epoch 59/250\n",
      "\u001b[1m12/12\u001b[0m \u001b[32m━━━━━━━━━━━━━━━━━━━━\u001b[0m\u001b[37m\u001b[0m \u001b[1m0s\u001b[0m 4ms/step - loss: 905.4070 - root_mean_squared_error: 29.6307 - val_loss: 314.8673 - val_root_mean_squared_error: 16.5919\n",
      "Epoch 60/250\n",
      "\u001b[1m12/12\u001b[0m \u001b[32m━━━━━━━━━━━━━━━━━━━━\u001b[0m\u001b[37m\u001b[0m \u001b[1m0s\u001b[0m 6ms/step - loss: 696.7382 - root_mean_squared_error: 26.0752 - val_loss: 307.2900 - val_root_mean_squared_error: 16.3225\n",
      "Epoch 61/250\n",
      "\u001b[1m12/12\u001b[0m \u001b[32m━━━━━━━━━━━━━━━━━━━━\u001b[0m\u001b[37m\u001b[0m \u001b[1m0s\u001b[0m 4ms/step - loss: 391.4500 - root_mean_squared_error: 19.2171 - val_loss: 336.6059 - val_root_mean_squared_error: 17.3377\n",
      "Epoch 62/250\n",
      "\u001b[1m12/12\u001b[0m \u001b[32m━━━━━━━━━━━━━━━━━━━━\u001b[0m\u001b[37m\u001b[0m \u001b[1m0s\u001b[0m 5ms/step - loss: 429.2786 - root_mean_squared_error: 20.6260 - val_loss: 268.5510 - val_root_mean_squared_error: 15.4809\n",
      "Epoch 63/250\n",
      "\u001b[1m12/12\u001b[0m \u001b[32m━━━━━━━━━━━━━━━━━━━━\u001b[0m\u001b[37m\u001b[0m \u001b[1m0s\u001b[0m 4ms/step - loss: 400.5392 - root_mean_squared_error: 19.6032 - val_loss: 269.7099 - val_root_mean_squared_error: 15.6540\n",
      "Epoch 64/250\n",
      "\u001b[1m12/12\u001b[0m \u001b[32m━━━━━━━━━━━━━━━━━━━━\u001b[0m\u001b[37m\u001b[0m \u001b[1m0s\u001b[0m 4ms/step - loss: 585.1458 - root_mean_squared_error: 23.9111 - val_loss: 248.2121 - val_root_mean_squared_error: 15.0416\n",
      "Epoch 65/250\n",
      "\u001b[1m12/12\u001b[0m \u001b[32m━━━━━━━━━━━━━━━━━━━━\u001b[0m\u001b[37m\u001b[0m \u001b[1m0s\u001b[0m 4ms/step - loss: 706.7344 - root_mean_squared_error: 26.4084 - val_loss: 257.0785 - val_root_mean_squared_error: 15.4044\n",
      "Epoch 66/250\n",
      "\u001b[1m12/12\u001b[0m \u001b[32m━━━━━━━━━━━━━━━━━━━━\u001b[0m\u001b[37m\u001b[0m \u001b[1m0s\u001b[0m 4ms/step - loss: 438.0823 - root_mean_squared_error: 19.8132 - val_loss: 243.2708 - val_root_mean_squared_error: 15.1600\n",
      "Epoch 67/250\n",
      "\u001b[1m12/12\u001b[0m \u001b[32m━━━━━━━━━━━━━━━━━━━━\u001b[0m\u001b[37m\u001b[0m \u001b[1m0s\u001b[0m 4ms/step - loss: 428.3111 - root_mean_squared_error: 20.5174 - val_loss: 312.3871 - val_root_mean_squared_error: 16.5067\n",
      "Epoch 68/250\n",
      "\u001b[1m12/12\u001b[0m \u001b[32m━━━━━━━━━━━━━━━━━━━━\u001b[0m\u001b[37m\u001b[0m \u001b[1m0s\u001b[0m 4ms/step - loss: 686.2303 - root_mean_squared_error: 24.6011 - val_loss: 306.9969 - val_root_mean_squared_error: 16.5997\n",
      "Epoch 69/250\n",
      "\u001b[1m12/12\u001b[0m \u001b[32m━━━━━━━━━━━━━━━━━━━━\u001b[0m\u001b[37m\u001b[0m \u001b[1m0s\u001b[0m 4ms/step - loss: 659.2651 - root_mean_squared_error: 25.4829 - val_loss: 243.4679 - val_root_mean_squared_error: 14.9444\n",
      "Epoch 70/250\n",
      "\u001b[1m12/12\u001b[0m \u001b[32m━━━━━━━━━━━━━━━━━━━━\u001b[0m\u001b[37m\u001b[0m \u001b[1m0s\u001b[0m 4ms/step - loss: 448.6190 - root_mean_squared_error: 20.8311 - val_loss: 244.6660 - val_root_mean_squared_error: 15.1311\n",
      "Epoch 71/250\n",
      "\u001b[1m12/12\u001b[0m \u001b[32m━━━━━━━━━━━━━━━━━━━━\u001b[0m\u001b[37m\u001b[0m \u001b[1m0s\u001b[0m 4ms/step - loss: 385.2198 - root_mean_squared_error: 19.1426 - val_loss: 266.7461 - val_root_mean_squared_error: 15.8629\n",
      "Epoch 72/250\n",
      "\u001b[1m12/12\u001b[0m \u001b[32m━━━━━━━━━━━━━━━━━━━━\u001b[0m\u001b[37m\u001b[0m \u001b[1m0s\u001b[0m 5ms/step - loss: 414.1461 - root_mean_squared_error: 20.1328 - val_loss: 221.4261 - val_root_mean_squared_error: 14.6065\n",
      "Epoch 73/250\n",
      "\u001b[1m12/12\u001b[0m \u001b[32m━━━━━━━━━━━━━━━━━━━━\u001b[0m\u001b[37m\u001b[0m \u001b[1m0s\u001b[0m 4ms/step - loss: 621.8237 - root_mean_squared_error: 24.1880 - val_loss: 202.2630 - val_root_mean_squared_error: 14.0114\n",
      "Epoch 74/250\n",
      "\u001b[1m12/12\u001b[0m \u001b[32m━━━━━━━━━━━━━━━━━━━━\u001b[0m\u001b[37m\u001b[0m \u001b[1m0s\u001b[0m 4ms/step - loss: 459.8666 - root_mean_squared_error: 20.8847 - val_loss: 197.3892 - val_root_mean_squared_error: 13.8462\n",
      "Epoch 75/250\n",
      "\u001b[1m12/12\u001b[0m \u001b[32m━━━━━━━━━━━━━━━━━━━━\u001b[0m\u001b[37m\u001b[0m \u001b[1m0s\u001b[0m 3ms/step - loss: 457.5807 - root_mean_squared_error: 20.9889 - val_loss: 216.9789 - val_root_mean_squared_error: 14.4814\n",
      "Epoch 76/250\n",
      "\u001b[1m12/12\u001b[0m \u001b[32m━━━━━━━━━━━━━━━━━━━━\u001b[0m\u001b[37m\u001b[0m \u001b[1m0s\u001b[0m 4ms/step - loss: 636.8450 - root_mean_squared_error: 24.8395 - val_loss: 206.8108 - val_root_mean_squared_error: 14.0596\n",
      "Epoch 77/250\n",
      "\u001b[1m12/12\u001b[0m \u001b[32m━━━━━━━━━━━━━━━━━━━━\u001b[0m\u001b[37m\u001b[0m \u001b[1m0s\u001b[0m 4ms/step - loss: 400.3493 - root_mean_squared_error: 19.9367 - val_loss: 197.5367 - val_root_mean_squared_error: 13.8265\n",
      "Epoch 78/250\n",
      "\u001b[1m12/12\u001b[0m \u001b[32m━━━━━━━━━━━━━━━━━━━━\u001b[0m\u001b[37m\u001b[0m \u001b[1m0s\u001b[0m 4ms/step - loss: 624.5378 - root_mean_squared_error: 24.6306 - val_loss: 184.8051 - val_root_mean_squared_error: 13.4988\n",
      "Epoch 79/250\n",
      "\u001b[1m12/12\u001b[0m \u001b[32m━━━━━━━━━━━━━━━━━━━━\u001b[0m\u001b[37m\u001b[0m \u001b[1m0s\u001b[0m 4ms/step - loss: 399.1624 - root_mean_squared_error: 19.7147 - val_loss: 179.5631 - val_root_mean_squared_error: 13.4525\n",
      "Epoch 80/250\n",
      "\u001b[1m12/12\u001b[0m \u001b[32m━━━━━━━━━━━━━━━━━━━━\u001b[0m\u001b[37m\u001b[0m \u001b[1m0s\u001b[0m 3ms/step - loss: 456.2209 - root_mean_squared_error: 20.1968 - val_loss: 187.0146 - val_root_mean_squared_error: 13.6281\n",
      "Epoch 81/250\n",
      "\u001b[1m12/12\u001b[0m \u001b[32m━━━━━━━━━━━━━━━━━━━━\u001b[0m\u001b[37m\u001b[0m \u001b[1m0s\u001b[0m 3ms/step - loss: 295.8560 - root_mean_squared_error: 16.9239 - val_loss: 239.0645 - val_root_mean_squared_error: 15.0116\n",
      "Epoch 82/250\n",
      "\u001b[1m12/12\u001b[0m \u001b[32m━━━━━━━━━━━━━━━━━━━━\u001b[0m\u001b[37m\u001b[0m \u001b[1m0s\u001b[0m 4ms/step - loss: 588.5078 - root_mean_squared_error: 23.9884 - val_loss: 258.0740 - val_root_mean_squared_error: 15.3120\n",
      "Epoch 83/250\n",
      "\u001b[1m12/12\u001b[0m \u001b[32m━━━━━━━━━━━━━━━━━━━━\u001b[0m\u001b[37m\u001b[0m \u001b[1m0s\u001b[0m 4ms/step - loss: 469.6820 - root_mean_squared_error: 21.4506 - val_loss: 218.1096 - val_root_mean_squared_error: 14.7144\n",
      "Epoch 84/250\n",
      "\u001b[1m12/12\u001b[0m \u001b[32m━━━━━━━━━━━━━━━━━━━━\u001b[0m\u001b[37m\u001b[0m \u001b[1m0s\u001b[0m 4ms/step - loss: 747.7470 - root_mean_squared_error: 26.5025 - val_loss: 178.0243 - val_root_mean_squared_error: 13.2993\n",
      "Epoch 85/250\n",
      "\u001b[1m12/12\u001b[0m \u001b[32m━━━━━━━━━━━━━━━━━━━━\u001b[0m\u001b[37m\u001b[0m \u001b[1m0s\u001b[0m 3ms/step - loss: 354.5193 - root_mean_squared_error: 18.5067 - val_loss: 214.2420 - val_root_mean_squared_error: 14.3003\n",
      "Epoch 86/250\n",
      "\u001b[1m12/12\u001b[0m \u001b[32m━━━━━━━━━━━━━━━━━━━━\u001b[0m\u001b[37m\u001b[0m \u001b[1m0s\u001b[0m 3ms/step - loss: 773.9749 - root_mean_squared_error: 26.8422 - val_loss: 183.3235 - val_root_mean_squared_error: 13.5257\n",
      "Epoch 87/250\n",
      "\u001b[1m12/12\u001b[0m \u001b[32m━━━━━━━━━━━━━━━━━━━━\u001b[0m\u001b[37m\u001b[0m \u001b[1m0s\u001b[0m 4ms/step - loss: 411.4153 - root_mean_squared_error: 19.8703 - val_loss: 193.6574 - val_root_mean_squared_error: 13.7055\n",
      "Epoch 88/250\n",
      "\u001b[1m12/12\u001b[0m \u001b[32m━━━━━━━━━━━━━━━━━━━━\u001b[0m\u001b[37m\u001b[0m \u001b[1m0s\u001b[0m 3ms/step - loss: 392.4627 - root_mean_squared_error: 19.1857 - val_loss: 211.6240 - val_root_mean_squared_error: 14.2142\n",
      "Epoch 89/250\n",
      "\u001b[1m12/12\u001b[0m \u001b[32m━━━━━━━━━━━━━━━━━━━━\u001b[0m\u001b[37m\u001b[0m \u001b[1m0s\u001b[0m 4ms/step - loss: 629.1673 - root_mean_squared_error: 24.7647 - val_loss: 365.2009 - val_root_mean_squared_error: 17.3793\n",
      "Epoch 90/250\n",
      "\u001b[1m12/12\u001b[0m \u001b[32m━━━━━━━━━━━━━━━━━━━━\u001b[0m\u001b[37m\u001b[0m \u001b[1m0s\u001b[0m 3ms/step - loss: 510.1080 - root_mean_squared_error: 22.4533 - val_loss: 279.2788 - val_root_mean_squared_error: 15.6152\n",
      "Epoch 91/250\n",
      "\u001b[1m12/12\u001b[0m \u001b[32m━━━━━━━━━━━━━━━━━━━━\u001b[0m\u001b[37m\u001b[0m \u001b[1m0s\u001b[0m 4ms/step - loss: 526.7098 - root_mean_squared_error: 22.2254 - val_loss: 231.6758 - val_root_mean_squared_error: 14.8790\n",
      "Epoch 92/250\n",
      "\u001b[1m12/12\u001b[0m \u001b[32m━━━━━━━━━━━━━━━━━━━━\u001b[0m\u001b[37m\u001b[0m \u001b[1m0s\u001b[0m 4ms/step - loss: 679.9266 - root_mean_squared_error: 25.6130 - val_loss: 220.1218 - val_root_mean_squared_error: 14.5381\n",
      "Epoch 93/250\n",
      "\u001b[1m12/12\u001b[0m \u001b[32m━━━━━━━━━━━━━━━━━━━━\u001b[0m\u001b[37m\u001b[0m \u001b[1m0s\u001b[0m 3ms/step - loss: 332.3757 - root_mean_squared_error: 17.3896 - val_loss: 197.0974 - val_root_mean_squared_error: 13.8143\n",
      "Epoch 94/250\n",
      "\u001b[1m12/12\u001b[0m \u001b[32m━━━━━━━━━━━━━━━━━━━━\u001b[0m\u001b[37m\u001b[0m \u001b[1m0s\u001b[0m 4ms/step - loss: 566.9915 - root_mean_squared_error: 22.3270 - val_loss: 222.2084 - val_root_mean_squared_error: 14.3631\n",
      "Epoch 95/250\n",
      "\u001b[1m12/12\u001b[0m \u001b[32m━━━━━━━━━━━━━━━━━━━━\u001b[0m\u001b[37m\u001b[0m \u001b[1m0s\u001b[0m 3ms/step - loss: 487.9694 - root_mean_squared_error: 22.0037 - val_loss: 273.7777 - val_root_mean_squared_error: 15.4559\n",
      "Epoch 96/250\n",
      "\u001b[1m12/12\u001b[0m \u001b[32m━━━━━━━━━━━━━━━━━━━━\u001b[0m\u001b[37m\u001b[0m \u001b[1m0s\u001b[0m 4ms/step - loss: 709.8824 - root_mean_squared_error: 26.2088 - val_loss: 274.7797 - val_root_mean_squared_error: 15.5509\n",
      "Epoch 97/250\n",
      "\u001b[1m12/12\u001b[0m \u001b[32m━━━━━━━━━━━━━━━━━━━━\u001b[0m\u001b[37m\u001b[0m \u001b[1m0s\u001b[0m 4ms/step - loss: 643.5962 - root_mean_squared_error: 23.8673 - val_loss: 295.8176 - val_root_mean_squared_error: 16.5221\n",
      "Epoch 98/250\n",
      "\u001b[1m12/12\u001b[0m \u001b[32m━━━━━━━━━━━━━━━━━━━━\u001b[0m\u001b[37m\u001b[0m \u001b[1m0s\u001b[0m 3ms/step - loss: 412.7625 - root_mean_squared_error: 19.7122 - val_loss: 413.3190 - val_root_mean_squared_error: 18.3334\n",
      "Epoch 99/250\n",
      "\u001b[1m12/12\u001b[0m \u001b[32m━━━━━━━━━━━━━━━━━━━━\u001b[0m\u001b[37m\u001b[0m \u001b[1m0s\u001b[0m 4ms/step - loss: 533.9968 - root_mean_squared_error: 22.8444 - val_loss: 278.6702 - val_root_mean_squared_error: 15.8499\n",
      "Epoch 100/250\n",
      "\u001b[1m12/12\u001b[0m \u001b[32m━━━━━━━━━━━━━━━━━━━━\u001b[0m\u001b[37m\u001b[0m \u001b[1m0s\u001b[0m 3ms/step - loss: 599.3622 - root_mean_squared_error: 24.0888 - val_loss: 280.6807 - val_root_mean_squared_error: 15.7173\n",
      "Epoch 101/250\n",
      "\u001b[1m12/12\u001b[0m \u001b[32m━━━━━━━━━━━━━━━━━━━━\u001b[0m\u001b[37m\u001b[0m \u001b[1m0s\u001b[0m 3ms/step - loss: 765.8942 - root_mean_squared_error: 27.2189 - val_loss: 305.4418 - val_root_mean_squared_error: 16.3779\n",
      "Epoch 102/250\n",
      "\u001b[1m12/12\u001b[0m \u001b[32m━━━━━━━━━━━━━━━━━━━━\u001b[0m\u001b[37m\u001b[0m \u001b[1m0s\u001b[0m 4ms/step - loss: 689.8974 - root_mean_squared_error: 26.1138 - val_loss: 259.6721 - val_root_mean_squared_error: 15.2823\n",
      "Epoch 103/250\n",
      "\u001b[1m12/12\u001b[0m \u001b[32m━━━━━━━━━━━━━━━━━━━━\u001b[0m\u001b[37m\u001b[0m \u001b[1m0s\u001b[0m 4ms/step - loss: 493.4358 - root_mean_squared_error: 21.9198 - val_loss: 250.1931 - val_root_mean_squared_error: 15.0153\n",
      "Epoch 104/250\n",
      "\u001b[1m12/12\u001b[0m \u001b[32m━━━━━━━━━━━━━━━━━━━━\u001b[0m\u001b[37m\u001b[0m \u001b[1m0s\u001b[0m 3ms/step - loss: 418.0621 - root_mean_squared_error: 20.1324 - val_loss: 241.5770 - val_root_mean_squared_error: 14.8974\n",
      "Epoch 105/250\n",
      "\u001b[1m12/12\u001b[0m \u001b[32m━━━━━━━━━━━━━━━━━━━━\u001b[0m\u001b[37m\u001b[0m \u001b[1m0s\u001b[0m 3ms/step - loss: 412.3517 - root_mean_squared_error: 20.1251 - val_loss: 248.7379 - val_root_mean_squared_error: 15.1272\n",
      "Epoch 106/250\n",
      "\u001b[1m12/12\u001b[0m \u001b[32m━━━━━━━━━━━━━━━━━━━━\u001b[0m\u001b[37m\u001b[0m \u001b[1m0s\u001b[0m 4ms/step - loss: 662.8012 - root_mean_squared_error: 25.5875 - val_loss: 330.5865 - val_root_mean_squared_error: 17.2186\n",
      "Epoch 107/250\n",
      "\u001b[1m12/12\u001b[0m \u001b[32m━━━━━━━━━━━━━━━━━━━━\u001b[0m\u001b[37m\u001b[0m \u001b[1m0s\u001b[0m 4ms/step - loss: 485.3735 - root_mean_squared_error: 20.3651 - val_loss: 264.0933 - val_root_mean_squared_error: 15.4298\n",
      "Epoch 108/250\n",
      "\u001b[1m12/12\u001b[0m \u001b[32m━━━━━━━━━━━━━━━━━━━━\u001b[0m\u001b[37m\u001b[0m \u001b[1m0s\u001b[0m 3ms/step - loss: 529.1126 - root_mean_squared_error: 22.5174 - val_loss: 222.5030 - val_root_mean_squared_error: 14.6322\n",
      "Epoch 109/250\n",
      "\u001b[1m12/12\u001b[0m \u001b[32m━━━━━━━━━━━━━━━━━━━━\u001b[0m\u001b[37m\u001b[0m \u001b[1m0s\u001b[0m 3ms/step - loss: 566.1735 - root_mean_squared_error: 23.5870 - val_loss: 249.7162 - val_root_mean_squared_error: 15.6451\n",
      "Epoch 109: early stopping\n",
      "Restoring model weights from the end of the best epoch: 84.\n"
     ]
    },
    {
     "data": {
      "text/plain": [
       "<keras.src.callbacks.history.History at 0x29d76ab80>"
      ]
     },
     "execution_count": 43,
     "metadata": {},
     "output_type": "execute_result"
    }
   ],
   "source": [
    "model.fit(X, y, validation_data=(X_val, y_val), epochs = 250, callbacks =[early_stopping, cp])"
   ]
  },
  {
   "cell_type": "code",
   "execution_count": 71,
   "metadata": {},
   "outputs": [
    {
     "name": "stdout",
     "output_type": "stream",
     "text": [
      "\u001b[1m1/1\u001b[0m \u001b[32m━━━━━━━━━━━━━━━━━━━━\u001b[0m\u001b[37m\u001b[0m \u001b[1m0s\u001b[0m 13ms/step\n",
      "\u001b[1m1/1\u001b[0m \u001b[32m━━━━━━━━━━━━━━━━━━━━\u001b[0m\u001b[37m\u001b[0m \u001b[1m0s\u001b[0m 12ms/step\n",
      "\u001b[1m1/1\u001b[0m \u001b[32m━━━━━━━━━━━━━━━━━━━━\u001b[0m\u001b[37m\u001b[0m \u001b[1m0s\u001b[0m 11ms/step\n",
      "\u001b[1m1/1\u001b[0m \u001b[32m━━━━━━━━━━━━━━━━━━━━\u001b[0m\u001b[37m\u001b[0m \u001b[1m0s\u001b[0m 9ms/step\n",
      "\u001b[1m1/1\u001b[0m \u001b[32m━━━━━━━━━━━━━━━━━━━━\u001b[0m\u001b[37m\u001b[0m \u001b[1m0s\u001b[0m 9ms/step\n",
      "\u001b[1m1/1\u001b[0m \u001b[32m━━━━━━━━━━━━━━━━━━━━\u001b[0m\u001b[37m\u001b[0m \u001b[1m0s\u001b[0m 10ms/step\n",
      "\u001b[1m1/1\u001b[0m \u001b[32m━━━━━━━━━━━━━━━━━━━━\u001b[0m\u001b[37m\u001b[0m \u001b[1m0s\u001b[0m 9ms/step\n",
      "\u001b[1m1/1\u001b[0m \u001b[32m━━━━━━━━━━━━━━━━━━━━\u001b[0m\u001b[37m\u001b[0m \u001b[1m0s\u001b[0m 10ms/step\n",
      "\u001b[1m1/1\u001b[0m \u001b[32m━━━━━━━━━━━━━━━━━━━━\u001b[0m\u001b[37m\u001b[0m \u001b[1m0s\u001b[0m 10ms/step\n",
      "\u001b[1m1/1\u001b[0m \u001b[32m━━━━━━━━━━━━━━━━━━━━\u001b[0m\u001b[37m\u001b[0m \u001b[1m0s\u001b[0m 9ms/step\n",
      "\u001b[1m1/1\u001b[0m \u001b[32m━━━━━━━━━━━━━━━━━━━━\u001b[0m\u001b[37m\u001b[0m \u001b[1m0s\u001b[0m 10ms/step\n",
      "\u001b[1m1/1\u001b[0m \u001b[32m━━━━━━━━━━━━━━━━━━━━\u001b[0m\u001b[37m\u001b[0m \u001b[1m0s\u001b[0m 9ms/step\n",
      "\u001b[1m1/1\u001b[0m \u001b[32m━━━━━━━━━━━━━━━━━━━━\u001b[0m\u001b[37m\u001b[0m \u001b[1m0s\u001b[0m 9ms/step\n",
      "\u001b[1m1/1\u001b[0m \u001b[32m━━━━━━━━━━━━━━━━━━━━\u001b[0m\u001b[37m\u001b[0m \u001b[1m0s\u001b[0m 9ms/step\n",
      "\u001b[1m1/1\u001b[0m \u001b[32m━━━━━━━━━━━━━━━━━━━━\u001b[0m\u001b[37m\u001b[0m \u001b[1m0s\u001b[0m 9ms/step\n",
      "[122.26021, 123.066216, 124.24959, 125.50873, 126.79618, 128.06267, 129.29443, 130.4811, 131.61838, 132.70377, 133.73625, 134.71571, 135.64272, 136.51831, 137.34393]\n"
     ]
    }
   ],
   "source": [
    "def predict_n_steps(model, X_input, n_steps):\n",
    "    # X_input es la última secuencia observada (por ejemplo, los precios de los últimos 5 días)\n",
    "    predictions = []\n",
    "    current_sequence = X_input.copy()\n",
    "    \n",
    "    for _ in range(n_steps):\n",
    "        # Hacer la predicción para el próximo punto\n",
    "        next_prediction = model.predict(current_sequence[np.newaxis, :])\n",
    "        predictions.append(next_prediction[0, 0])\n",
    "        \n",
    "        # Actualizar la secuencia de entrada con la última predicción\n",
    "        current_sequence = np.roll(current_sequence, -1, axis=0)\n",
    "        current_sequence[-1] = next_prediction\n",
    "        \n",
    "    return predictions\n",
    "\n",
    "\n",
    "last_sequence = X_test[-1]\n",
    "future_steps = 15  # Pasos a predecir\n",
    "\n",
    "predictions = predict_n_steps(model, last_sequence, future_steps)\n",
    "print(predictions)"
   ]
  },
  {
   "cell_type": "code",
   "execution_count": 45,
   "metadata": {},
   "outputs": [
    {
     "data": {
      "text/plain": [
       "(253, 5, 1)"
      ]
     },
     "execution_count": 45,
     "metadata": {},
     "output_type": "execute_result"
    }
   ],
   "source": [
    "X_test.shape"
   ]
  },
  {
   "cell_type": "code",
   "execution_count": 46,
   "metadata": {},
   "outputs": [
    {
     "data": {
      "text/html": [
       "<div>\n",
       "<style scoped>\n",
       "    .dataframe tbody tr th:only-of-type {\n",
       "        vertical-align: middle;\n",
       "    }\n",
       "\n",
       "    .dataframe tbody tr th {\n",
       "        vertical-align: top;\n",
       "    }\n",
       "\n",
       "    .dataframe thead th {\n",
       "        text-align: right;\n",
       "    }\n",
       "</style>\n",
       "<table border=\"1\" class=\"dataframe\">\n",
       "  <thead>\n",
       "    <tr style=\"text-align: right;\">\n",
       "      <th></th>\n",
       "      <th>Predictions</th>\n",
       "      <th>Actuals</th>\n",
       "    </tr>\n",
       "  </thead>\n",
       "  <tbody>\n",
       "    <tr>\n",
       "      <th>0</th>\n",
       "      <td>122.260208</td>\n",
       "      <td>162.0</td>\n",
       "    </tr>\n",
       "    <tr>\n",
       "      <th>1</th>\n",
       "      <td>123.066216</td>\n",
       "      <td>189.0</td>\n",
       "    </tr>\n",
       "    <tr>\n",
       "      <th>2</th>\n",
       "      <td>124.249588</td>\n",
       "      <td>216.0</td>\n",
       "    </tr>\n",
       "    <tr>\n",
       "      <th>3</th>\n",
       "      <td>125.508728</td>\n",
       "      <td>214.0</td>\n",
       "    </tr>\n",
       "    <tr>\n",
       "      <th>4</th>\n",
       "      <td>126.796181</td>\n",
       "      <td>219.0</td>\n",
       "    </tr>\n",
       "    <tr>\n",
       "      <th>5</th>\n",
       "      <td>128.062668</td>\n",
       "      <td>219.0</td>\n",
       "    </tr>\n",
       "    <tr>\n",
       "      <th>6</th>\n",
       "      <td>129.294434</td>\n",
       "      <td>213.0</td>\n",
       "    </tr>\n",
       "    <tr>\n",
       "      <th>7</th>\n",
       "      <td>130.481094</td>\n",
       "      <td>213.0</td>\n",
       "    </tr>\n",
       "    <tr>\n",
       "      <th>8</th>\n",
       "      <td>131.618378</td>\n",
       "      <td>187.0</td>\n",
       "    </tr>\n",
       "    <tr>\n",
       "      <th>9</th>\n",
       "      <td>132.703766</td>\n",
       "      <td>167.0</td>\n",
       "    </tr>\n",
       "    <tr>\n",
       "      <th>10</th>\n",
       "      <td>133.736252</td>\n",
       "      <td>169.0</td>\n",
       "    </tr>\n",
       "    <tr>\n",
       "      <th>11</th>\n",
       "      <td>134.715714</td>\n",
       "      <td>175.0</td>\n",
       "    </tr>\n",
       "    <tr>\n",
       "      <th>12</th>\n",
       "      <td>135.642715</td>\n",
       "      <td>178.0</td>\n",
       "    </tr>\n",
       "    <tr>\n",
       "      <th>13</th>\n",
       "      <td>136.518311</td>\n",
       "      <td>180.0</td>\n",
       "    </tr>\n",
       "    <tr>\n",
       "      <th>14</th>\n",
       "      <td>137.343933</td>\n",
       "      <td>213.0</td>\n",
       "    </tr>\n",
       "  </tbody>\n",
       "</table>\n",
       "</div>"
      ],
      "text/plain": [
       "    Predictions  Actuals\n",
       "0    122.260208    162.0\n",
       "1    123.066216    189.0\n",
       "2    124.249588    216.0\n",
       "3    125.508728    214.0\n",
       "4    126.796181    219.0\n",
       "5    128.062668    219.0\n",
       "6    129.294434    213.0\n",
       "7    130.481094    213.0\n",
       "8    131.618378    187.0\n",
       "9    132.703766    167.0\n",
       "10   133.736252    169.0\n",
       "11   134.715714    175.0\n",
       "12   135.642715    178.0\n",
       "13   136.518311    180.0\n",
       "14   137.343933    213.0"
      ]
     },
     "execution_count": 46,
     "metadata": {},
     "output_type": "execute_result"
    }
   ],
   "source": [
    "comparativa = pd.DataFrame(data={'Predictions':predictions, 'Actuals':y_test[:15]})\n",
    "comparativa"
   ]
  },
  {
   "cell_type": "code",
   "execution_count": 47,
   "metadata": {},
   "outputs": [
    {
     "name": "stdout",
     "output_type": "stream",
     "text": [
      "\u001b[1m8/8\u001b[0m \u001b[32m━━━━━━━━━━━━━━━━━━━━\u001b[0m\u001b[37m\u001b[0m \u001b[1m0s\u001b[0m 950us/step\n"
     ]
    },
    {
     "data": {
      "text/html": [
       "<div>\n",
       "<style scoped>\n",
       "    .dataframe tbody tr th:only-of-type {\n",
       "        vertical-align: middle;\n",
       "    }\n",
       "\n",
       "    .dataframe tbody tr th {\n",
       "        vertical-align: top;\n",
       "    }\n",
       "\n",
       "    .dataframe thead th {\n",
       "        text-align: right;\n",
       "    }\n",
       "</style>\n",
       "<table border=\"1\" class=\"dataframe\">\n",
       "  <thead>\n",
       "    <tr style=\"text-align: right;\">\n",
       "      <th></th>\n",
       "      <th>Predictions</th>\n",
       "      <th>Actuals</th>\n",
       "    </tr>\n",
       "  </thead>\n",
       "  <tbody>\n",
       "    <tr>\n",
       "      <th>0</th>\n",
       "      <td>134.717484</td>\n",
       "      <td>162.0</td>\n",
       "    </tr>\n",
       "    <tr>\n",
       "      <th>1</th>\n",
       "      <td>168.699722</td>\n",
       "      <td>189.0</td>\n",
       "    </tr>\n",
       "    <tr>\n",
       "      <th>2</th>\n",
       "      <td>199.324402</td>\n",
       "      <td>216.0</td>\n",
       "    </tr>\n",
       "    <tr>\n",
       "      <th>3</th>\n",
       "      <td>224.963181</td>\n",
       "      <td>214.0</td>\n",
       "    </tr>\n",
       "    <tr>\n",
       "      <th>4</th>\n",
       "      <td>216.484314</td>\n",
       "      <td>219.0</td>\n",
       "    </tr>\n",
       "    <tr>\n",
       "      <th>...</th>\n",
       "      <td>...</td>\n",
       "      <td>...</td>\n",
       "    </tr>\n",
       "    <tr>\n",
       "      <th>248</th>\n",
       "      <td>128.657745</td>\n",
       "      <td>125.0</td>\n",
       "    </tr>\n",
       "    <tr>\n",
       "      <th>249</th>\n",
       "      <td>123.787277</td>\n",
       "      <td>125.0</td>\n",
       "    </tr>\n",
       "    <tr>\n",
       "      <th>250</th>\n",
       "      <td>125.454140</td>\n",
       "      <td>124.0</td>\n",
       "    </tr>\n",
       "    <tr>\n",
       "      <th>251</th>\n",
       "      <td>124.676605</td>\n",
       "      <td>122.0</td>\n",
       "    </tr>\n",
       "    <tr>\n",
       "      <th>252</th>\n",
       "      <td>122.260208</td>\n",
       "      <td>115.0</td>\n",
       "    </tr>\n",
       "  </tbody>\n",
       "</table>\n",
       "<p>253 rows × 2 columns</p>\n",
       "</div>"
      ],
      "text/plain": [
       "     Predictions  Actuals\n",
       "0     134.717484    162.0\n",
       "1     168.699722    189.0\n",
       "2     199.324402    216.0\n",
       "3     224.963181    214.0\n",
       "4     216.484314    219.0\n",
       "..           ...      ...\n",
       "248   128.657745    125.0\n",
       "249   123.787277    125.0\n",
       "250   125.454140    124.0\n",
       "251   124.676605    122.0\n",
       "252   122.260208    115.0\n",
       "\n",
       "[253 rows x 2 columns]"
      ]
     },
     "execution_count": 47,
     "metadata": {},
     "output_type": "execute_result"
    }
   ],
   "source": [
    "train_predictions = model.predict(X_test).flatten()\n",
    "train_results = pd.DataFrame(data = {'Predictions':train_predictions, 'Actuals':y_test})\n",
    "train_results"
   ]
  },
  {
   "cell_type": "code",
   "execution_count": 70,
   "metadata": {},
   "outputs": [
    {
     "data": {
      "image/png": "[encoded data removed]",
      "text/plain": [
       "<Figure size 640x480 with 1 Axes>"
      ]
     },
     "metadata": {},
     "output_type": "display_data"
    },
    {
     "data": {
      "text/plain": [
       "<Figure size 640x480 with 0 Axes>"
      ]
     },
     "metadata": {},
     "output_type": "display_data"
    }
   ],
   "source": [
    "plt.plot(train_results['Predictions'])\n",
    "plt.plot(train_results['Actuals'])\n",
    "# Suponiendo que tienes las predicciones y los intervalos de confianza en train_results\n",
    "upper_bound = train_results['Predictions'] + 23\n",
    "lower_bound = train_results['Predictions'] - 23\n",
    "\n",
    "plt.fill_between(train_results.index, lower_bound, upper_bound, color='green', alpha=0.2)\n",
    "plt.legend(['Train Predictions', 'Actual Values', 'Confidence Interval'])\n",
    "plt.show()\n",
    "plt.clf()"
   ]
  },
  {
   "cell_type": "code",
   "execution_count": 64,
   "metadata": {},
   "outputs": [],
   "source": [
    "mae = tf.keras.losses.MeanAbsoluteError()"
   ]
  },
  {
   "cell_type": "code",
   "execution_count": 65,
   "metadata": {},
   "outputs": [],
   "source": [
    "from sklearn.metrics import mean_absolute_error"
   ]
  },
  {
   "cell_type": "code",
   "execution_count": 68,
   "metadata": {},
   "outputs": [
    {
     "name": "stdout",
     "output_type": "stream",
     "text": [
      "El error obtenido con LSTM es de 0.11€\n"
     ]
    }
   ],
   "source": [
    "result = mean_absolute_error(train_results['Actuals'], train_results['Predictions'])\n",
    "print(f\"El error obtenido con LSTM es de {round((result / 100), 2)}€\")"
   ]
  },
  {
   "cell_type": "markdown",
   "metadata": {},
   "source": [
    "Tenemos un error medio absoluto de 11 céntimos cuando queremos predecir el día siguiente con una ventana de tiempo (número de días de referencia) de 5 días."
   ]
  },
  {
   "cell_type": "code",
   "execution_count": 69,
   "metadata": {},
   "outputs": [
    {
     "data": {
      "text/plain": [
       "count    253.000000\n",
       "mean      10.881415\n",
       "std       12.046683\n",
       "min        0.217911\n",
       "25%        2.965263\n",
       "50%        7.246765\n",
       "75%       14.500793\n",
       "max       67.876434\n",
       "dtype: float64"
      ]
     },
     "execution_count": 69,
     "metadata": {},
     "output_type": "execute_result"
    }
   ],
   "source": [
    "value = abs(train_results['Actuals'] - train_results['Predictions'])\n",
    "value.describe() # Aquí podemos ver la distribución de nuestra pérdida a la hora de hacer la predicción."
   ]
  },
  {
   "cell_type": "code",
   "execution_count": 30,
   "metadata": {},
   "outputs": [
    {
     "data": {
      "text/plain": [
       "count    15.000000\n",
       "mean     41.367032\n",
       "std      35.269806\n",
       "min       1.265533\n",
       "25%      17.717209\n",
       "50%      23.596466\n",
       "75%      75.505089\n",
       "max      97.145691\n",
       "dtype: float64"
      ]
     },
     "execution_count": 30,
     "metadata": {},
     "output_type": "execute_result"
    }
   ],
   "source": [
    "value2 = abs(comparativa['Actuals'] - comparativa['Predictions'])\n",
    "value2.describe() "
   ]
  },
  {
   "cell_type": "markdown",
   "metadata": {},
   "source": [
    "Tenemos una media de 41 céntimos de error cuando queremos predecir 15 días hacia adelante utilizando una ventana de tiempo (referencia de precios) de los últimos 5 días."
   ]
  }
 ],
 "metadata": {
  "kernelspec": {
   "display_name": "Python 3",
   "language": "python",
   "name": "python3"
  },
  "language_info": {
   "codemirror_mode": {
    "name": "ipython",
    "version": 3
   },
   "file_extension": ".py",
   "mimetype": "text/x-python",
   "name": "python",
   "nbconvert_exporter": "python",
   "pygments_lexer": "ipython3",
   "version": "3.9.6"
  }
 },
 "nbformat": 4,
 "nbformat_minor": 2
}
