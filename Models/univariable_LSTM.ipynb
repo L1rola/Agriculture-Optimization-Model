{
 "cells": [
  {
   "cell_type": "markdown",
   "metadata": {},
   "source": [
    "### Main libraries"
   ]
  },
  {
   "cell_type": "code",
   "execution_count": null,
   "metadata": {},
   "outputs": [],
   "source": [
    "import pandas as pd\n",
    "import numpy as np\n",
    "import matplotlib.pyplot as plt\n",
    "import tensorflow as tf\n",
    "import keras\n",
    "import seaborn as sns"
   ]
  },
  {
   "cell_type": "code",
   "execution_count": null,
   "metadata": {},
   "outputs": [],
   "source": [
    "%matplotlib inline"
   ]
  },
  {
   "cell_type": "code",
   "execution_count": null,
   "metadata": {},
   "outputs": [],
   "source": [
    "import warnings\n",
    "warnings.filterwarnings('ignore')"
   ]
  },
  {
   "cell_type": "markdown",
   "metadata": {},
   "source": [
    "### Univariable LSTM"
   ]
  },
  {
   "cell_type": "code",
   "execution_count": null,
   "metadata": {},
   "outputs": [],
   "source": [
    "import sweetviz as sv\n",
    "from statsmodels.tsa.seasonal import STL"
   ]
  },
  {
   "cell_type": "code",
   "execution_count": null,
   "metadata": {},
   "outputs": [],
   "source": [
    "df_price = pd.read_csv('agrodata.csv')\n",
    "df_weather = pd.read_csv('agroweather_data.csv')"
   ]
  },
  {
   "cell_type": "code",
   "execution_count": null,
   "metadata": {},
   "outputs": [
    {
     "data": {
      "text/plain": [
       "0       74.0\n",
       "1       81.0\n",
       "2       77.0\n",
       "3       73.0\n",
       "4       67.0\n",
       "       ...  \n",
       "983    125.0\n",
       "984    125.0\n",
       "985    124.0\n",
       "986    122.0\n",
       "987    115.0\n",
       "Name: Price, Length: 988, dtype: float64"
      ]
     },
     "metadata": {},
     "output_type": "display_data"
    }
   ],
   "source": [
    "df_price['Price'] = df_price['Price'].astype(float)\n",
    "Price = df_price['Price']\n",
    "Price"
   ]
  },
  {
   "cell_type": "code",
   "execution_count": null,
   "metadata": {},
   "outputs": [],
   "source": [
    "def df_to_X_y(df, window_size = 5):\n",
    "    df_as_np = df.to_numpy()\n",
    "    X = []\n",
    "    y = []\n",
    "    for i in range(len(df_as_np)-window_size):\n",
    "        row = [[a] for a in df_as_np[i:i+5]]\n",
    "        X.append(row)\n",
    "        label = df_as_np[i+5]\n",
    "        y.append(label)\n",
    "    return np.array(X), np.array(y)"
   ]
  },
  {
   "cell_type": "code",
   "execution_count": null,
   "metadata": {},
   "outputs": [],
   "source": [
    "train = Price[:700]\n",
    "val = Price[700:850]\n",
    "test = Price[850:]"
   ]
  },
  {
   "cell_type": "code",
   "execution_count": null,
   "metadata": {},
   "outputs": [
    {
     "data": {
      "text/plain": [
       "((695, 5, 1), (695,))"
      ]
     },
     "metadata": {},
     "output_type": "display_data"
    }
   ],
   "source": [
    "WINDOW_SIZE = 5\n",
    "X, y = df_to_X_y(train, WINDOW_SIZE)\n",
    "X.shape, y.shape"
   ]
  },
  {
   "cell_type": "code",
   "execution_count": null,
   "metadata": {},
   "outputs": [
    {
     "data": {
      "text/plain": [
       "((133, 5, 1), (133,))"
      ]
     },
     "metadata": {},
     "output_type": "display_data"
    }
   ],
   "source": [
    "X_test, y_test = df_to_X_y(test, WINDOW_SIZE)\n",
    "X_test.shape, y_test.shape"
   ]
  },
  {
   "cell_type": "code",
   "execution_count": null,
   "metadata": {},
   "outputs": [
    {
     "data": {
      "text/plain": [
       "((145, 5, 1), (145,))"
      ]
     },
     "metadata": {},
     "output_type": "display_data"
    }
   ],
   "source": [
    "X_val, y_val = df_to_X_y(val, WINDOW_SIZE)\n",
    "X_val.shape, y_val.shape"
   ]
  },
  {
   "cell_type": "code",
   "execution_count": null,
   "metadata": {},
   "outputs": [
    {
     "data": {
      "text/plain": [
       "array([[184.],\n",
       "       [249.],\n",
       "       [282.],\n",
       "       [227.],\n",
       "       [223.]])"
      ]
     },
     "metadata": {},
     "output_type": "display_data"
    }
   ],
   "source": [
    "X_test[0] # Estamos usando 5 días para producir una predicción de 1 día, es decir, usamos los 5 días anteriores incluyendo hoy, para realizar la predicción de mañana.9"
   ]
  },
  {
   "cell_type": "code",
   "execution_count": null,
   "metadata": {},
   "outputs": [
    {
     "data": {
      "text/plain": [
       "204.0"
      ]
     },
     "metadata": {},
     "output_type": "display_data"
    }
   ],
   "source": [
    "y_test[0]"
   ]
  },
  {
   "cell_type": "code",
   "execution_count": null,
   "metadata": {},
   "outputs": [
    {
     "data": {
      "text/plain": [
       "((145, 5, 1), (145,))"
      ]
     },
     "metadata": {},
     "output_type": "display_data"
    }
   ],
   "source": [
    "X_val, y_val = df_to_X_y(val, WINDOW_SIZE)\n",
    "X_val.shape, y_val.shape"
   ]
  },
  {
   "cell_type": "code",
   "execution_count": null,
   "metadata": {},
   "outputs": [],
   "source": [
    "from sklearn.model_selection import TimeSeriesSplit\n",
    "from sklearn.metrics import mean_squared_error\n",
    "from math import sqrt"
   ]
  },
  {
   "cell_type": "code",
   "execution_count": null,
   "metadata": {},
   "outputs": [],
   "source": [
    "from tensorflow.keras.models import Sequential\n",
    "from tensorflow.keras.layers import *\n",
    "from tensorflow.keras.callbacks import ModelCheckpoint, EarlyStopping\n",
    "from tensorflow.keras.losses import MeanSquaredError\n",
    "from tensorflow.keras.metrics import RootMeanSquaredError\n",
    "from tensorflow.keras.optimizers import Adam\n",
    "from keras import regularizers"
   ]
  },
  {
   "cell_type": "code",
   "execution_count": null,
   "metadata": {},
   "outputs": [
    {
     "data": {
      "text/html": [
       "<pre style=\"white-space:pre;overflow-x:auto;line-height:normal;font-family:Menlo,'DejaVu Sans Mono',consolas,'Courier New',monospace\"><span style=\"font-weight: bold\">Model: \"sequential_4\"</span>\n",
       "</pre>\n"
      ],
      "text/plain": [
       "\u001b[1mModel: \"sequential_4\"\u001b[0m\n"
      ]
     },
     "metadata": {},
     "output_type": "display_data"
    },
    {
     "data": {
      "text/html": [
       "<pre style=\"white-space:pre;overflow-x:auto;line-height:normal;font-family:Menlo,'DejaVu Sans Mono',consolas,'Courier New',monospace\">┏━━━━━━━━━━━━━━━━━━━━━━━━━━━━━━━━━┳━━━━━━━━━━━━━━━━━━━━━━━━┳━━━━━━━━━━━━━━━┓\n",
       "┃<span style=\"font-weight: bold\"> Layer (type)                    </span>┃<span style=\"font-weight: bold\"> Output Shape           </span>┃<span style=\"font-weight: bold\">       Param # </span>┃\n",
       "┡━━━━━━━━━━━━━━━━━━━━━━━━━━━━━━━━━╇━━━━━━━━━━━━━━━━━━━━━━━━╇━━━━━━━━━━━━━━━┩\n",
       "│ lstm_4 (<span style=\"color: #0087ff; text-decoration-color: #0087ff\">LSTM</span>)                   │ (<span style=\"color: #00d7ff; text-decoration-color: #00d7ff\">None</span>, <span style=\"color: #00af00; text-decoration-color: #00af00\">64</span>)             │        <span style=\"color: #00af00; text-decoration-color: #00af00\">16,896</span> │\n",
       "├─────────────────────────────────┼────────────────────────┼───────────────┤\n",
       "│ dense_12 (<span style=\"color: #0087ff; text-decoration-color: #0087ff\">Dense</span>)                │ (<span style=\"color: #00d7ff; text-decoration-color: #00d7ff\">None</span>, <span style=\"color: #00af00; text-decoration-color: #00af00\">10</span>)             │           <span style=\"color: #00af00; text-decoration-color: #00af00\">650</span> │\n",
       "├─────────────────────────────────┼────────────────────────┼───────────────┤\n",
       "│ dense_13 (<span style=\"color: #0087ff; text-decoration-color: #0087ff\">Dense</span>)                │ (<span style=\"color: #00d7ff; text-decoration-color: #00d7ff\">None</span>, <span style=\"color: #00af00; text-decoration-color: #00af00\">10</span>)             │           <span style=\"color: #00af00; text-decoration-color: #00af00\">110</span> │\n",
       "├─────────────────────────────────┼────────────────────────┼───────────────┤\n",
       "│ dense_14 (<span style=\"color: #0087ff; text-decoration-color: #0087ff\">Dense</span>)                │ (<span style=\"color: #00d7ff; text-decoration-color: #00d7ff\">None</span>, <span style=\"color: #00af00; text-decoration-color: #00af00\">1</span>)              │            <span style=\"color: #00af00; text-decoration-color: #00af00\">11</span> │\n",
       "└─────────────────────────────────┴────────────────────────┴───────────────┘\n",
       "</pre>\n"
      ],
      "text/plain": [
       "┏━━━━━━━━━━━━━━━━━━━━━━━━━━━━━━━━━┳━━━━━━━━━━━━━━━━━━━━━━━━┳━━━━━━━━━━━━━━━┓\n",
       "┃\u001b[1m \u001b[0m\u001b[1mLayer (type)                   \u001b[0m\u001b[1m \u001b[0m┃\u001b[1m \u001b[0m\u001b[1mOutput Shape          \u001b[0m\u001b[1m \u001b[0m┃\u001b[1m \u001b[0m\u001b[1m      Param #\u001b[0m\u001b[1m \u001b[0m┃\n",
       "┡━━━━━━━━━━━━━━━━━━━━━━━━━━━━━━━━━╇━━━━━━━━━━━━━━━━━━━━━━━━╇━━━━━━━━━━━━━━━┩\n",
       "│ lstm_4 (\u001b[38;5;33mLSTM\u001b[0m)                   │ (\u001b[38;5;45mNone\u001b[0m, \u001b[38;5;34m64\u001b[0m)             │        \u001b[38;5;34m16,896\u001b[0m │\n",
       "├─────────────────────────────────┼────────────────────────┼───────────────┤\n",
       "│ dense_12 (\u001b[38;5;33mDense\u001b[0m)                │ (\u001b[38;5;45mNone\u001b[0m, \u001b[38;5;34m10\u001b[0m)             │           \u001b[38;5;34m650\u001b[0m │\n",
       "├─────────────────────────────────┼────────────────────────┼───────────────┤\n",
       "│ dense_13 (\u001b[38;5;33mDense\u001b[0m)                │ (\u001b[38;5;45mNone\u001b[0m, \u001b[38;5;34m10\u001b[0m)             │           \u001b[38;5;34m110\u001b[0m │\n",
       "├─────────────────────────────────┼────────────────────────┼───────────────┤\n",
       "│ dense_14 (\u001b[38;5;33mDense\u001b[0m)                │ (\u001b[38;5;45mNone\u001b[0m, \u001b[38;5;34m1\u001b[0m)              │            \u001b[38;5;34m11\u001b[0m │\n",
       "└─────────────────────────────────┴────────────────────────┴───────────────┘\n"
      ]
     },
     "metadata": {},
     "output_type": "display_data"
    },
    {
     "data": {
      "text/html": [
       "<pre style=\"white-space:pre;overflow-x:auto;line-height:normal;font-family:Menlo,'DejaVu Sans Mono',consolas,'Courier New',monospace\"><span style=\"font-weight: bold\"> Total params: </span><span style=\"color: #00af00; text-decoration-color: #00af00\">17,667</span> (69.01 KB)\n",
       "</pre>\n"
      ],
      "text/plain": [
       "\u001b[1m Total params: \u001b[0m\u001b[38;5;34m17,667\u001b[0m (69.01 KB)\n"
      ]
     },
     "metadata": {},
     "output_type": "display_data"
    },
    {
     "data": {
      "text/html": [
       "<pre style=\"white-space:pre;overflow-x:auto;line-height:normal;font-family:Menlo,'DejaVu Sans Mono',consolas,'Courier New',monospace\"><span style=\"font-weight: bold\"> Trainable params: </span><span style=\"color: #00af00; text-decoration-color: #00af00\">17,667</span> (69.01 KB)\n",
       "</pre>\n"
      ],
      "text/plain": [
       "\u001b[1m Trainable params: \u001b[0m\u001b[38;5;34m17,667\u001b[0m (69.01 KB)\n"
      ]
     },
     "metadata": {},
     "output_type": "display_data"
    },
    {
     "data": {
      "text/html": [
       "<pre style=\"white-space:pre;overflow-x:auto;line-height:normal;font-family:Menlo,'DejaVu Sans Mono',consolas,'Courier New',monospace\"><span style=\"font-weight: bold\"> Non-trainable params: </span><span style=\"color: #00af00; text-decoration-color: #00af00\">0</span> (0.00 B)\n",
       "</pre>\n"
      ],
      "text/plain": [
       "\u001b[1m Non-trainable params: \u001b[0m\u001b[38;5;34m0\u001b[0m (0.00 B)\n"
      ]
     },
     "metadata": {},
     "output_type": "display_data"
    }
   ],
   "source": [
    "model = Sequential()\n",
    "model.add(InputLayer((5, 1)))\n",
    "model.add(LSTM((64), kernel_regularizer=regularizers.l2(0.01)))\n",
    "model.add(Dense(10, activation = 'relu'))\n",
    "model.add(Dense(10, activation = 'relu'))\n",
    "model.add(Dense(1, 'linear'))\n",
    "\n",
    "model.summary()"
   ]
  },
  {
   "cell_type": "code",
   "execution_count": null,
   "metadata": {},
   "outputs": [],
   "source": [
    "cp = ModelCheckpoint('model1.keras', save_best_only=True)\n",
    "model.compile(loss=MeanSquaredError(), optimizer = Adam(learning_rate = 0.001), metrics=[RootMeanSquaredError()])"
   ]
  },
  {
   "cell_type": "code",
   "execution_count": null,
   "metadata": {},
   "outputs": [],
   "source": [
    "early_stopping = EarlyStopping(monitor = 'val_loss', patience = 25, verbose = 1, restore_best_weights=True)"
   ]
  },
  {
   "cell_type": "code",
   "execution_count": null,
   "metadata": {},
   "outputs": [
    {
     "name": "stdout",
     "output_type": "stream",
     "text": [
      "Epoch 1/250\n"
     ]
    },
    {
     "name": "stdout",
     "output_type": "stream",
     "text": [
      "\u001b[1m22/22\u001b[0m \u001b[32m━━━━━━━━━━━━━━━━━━━━\u001b[0m\u001b[37m\u001b[0m \u001b[1m1s\u001b[0m 8ms/step - loss: 14719.7148 - root_mean_squared_error: 120.9884 - val_loss: 36838.7461 - val_root_mean_squared_error: 192.5905\n",
      "Epoch 2/250\n",
      "\u001b[1m22/22\u001b[0m \u001b[32m━━━━━━━━━━━━━━━━━━━━\u001b[0m\u001b[37m\u001b[0m \u001b[1m0s\u001b[0m 4ms/step - loss: 13595.5664 - root_mean_squared_error: 116.5358 - val_loss: 36378.0234 - val_root_mean_squared_error: 191.3930\n",
      "Epoch 3/250\n",
      "\u001b[1m22/22\u001b[0m \u001b[32m━━━━━━━━━━━━━━━━━━━━\u001b[0m\u001b[37m\u001b[0m \u001b[1m0s\u001b[0m 3ms/step - loss: 11760.4912 - root_mean_squared_error: 108.4315 - val_loss: 35297.6562 - val_root_mean_squared_error: 188.5563\n",
      "Epoch 4/250\n",
      "\u001b[1m22/22\u001b[0m \u001b[32m━━━━━━━━━━━━━━━━━━━━\u001b[0m\u001b[37m\u001b[0m \u001b[1m0s\u001b[0m 3ms/step - loss: 10944.1973 - root_mean_squared_error: 104.5384 - val_loss: 31591.9688 - val_root_mean_squared_error: 178.5635\n",
      "Epoch 5/250\n",
      "\u001b[1m22/22\u001b[0m \u001b[32m━━━━━━━━━━━━━━━━━━━━\u001b[0m\u001b[37m\u001b[0m \u001b[1m0s\u001b[0m 3ms/step - loss: 8823.3682 - root_mean_squared_error: 93.9002 - val_loss: 27074.8945 - val_root_mean_squared_error: 165.4801\n",
      "Epoch 6/250\n",
      "\u001b[1m22/22\u001b[0m \u001b[32m━━━━━━━━━━━━━━━━━━━━\u001b[0m\u001b[37m\u001b[0m \u001b[1m0s\u001b[0m 3ms/step - loss: 6301.3540 - root_mean_squared_error: 79.3401 - val_loss: 22556.3125 - val_root_mean_squared_error: 151.3353\n",
      "Epoch 7/250\n",
      "\u001b[1m22/22\u001b[0m \u001b[32m━━━━━━━━━━━━━━━━━━━━\u001b[0m\u001b[37m\u001b[0m \u001b[1m0s\u001b[0m 3ms/step - loss: 5177.3677 - root_mean_squared_error: 71.8121 - val_loss: 18357.9805 - val_root_mean_squared_error: 136.8613\n",
      "Epoch 8/250\n",
      "\u001b[1m22/22\u001b[0m \u001b[32m━━━━━━━━━━━━━━━━━━━━\u001b[0m\u001b[37m\u001b[0m \u001b[1m0s\u001b[0m 3ms/step - loss: 3076.0447 - root_mean_squared_error: 55.2601 - val_loss: 15149.2500 - val_root_mean_squared_error: 124.7187\n",
      "Epoch 9/250\n",
      "\u001b[1m22/22\u001b[0m \u001b[32m━━━━━━━━━━━━━━━━━━━━\u001b[0m\u001b[37m\u001b[0m \u001b[1m0s\u001b[0m 3ms/step - loss: 2113.7627 - root_mean_squared_error: 45.7944 - val_loss: 12920.9512 - val_root_mean_squared_error: 115.5220\n",
      "Epoch 10/250\n",
      "\u001b[1m22/22\u001b[0m \u001b[32m━━━━━━━━━━━━━━━━━━━━\u001b[0m\u001b[37m\u001b[0m \u001b[1m0s\u001b[0m 3ms/step - loss: 2146.9973 - root_mean_squared_error: 45.8699 - val_loss: 11458.1279 - val_root_mean_squared_error: 109.0446\n",
      "Epoch 11/250\n",
      "\u001b[1m22/22\u001b[0m \u001b[32m━━━━━━━━━━━━━━━━━━━━\u001b[0m\u001b[37m\u001b[0m \u001b[1m0s\u001b[0m 3ms/step - loss: 2079.3132 - root_mean_squared_error: 45.3871 - val_loss: 10144.6631 - val_root_mean_squared_error: 102.8694\n",
      "Epoch 12/250\n",
      "\u001b[1m22/22\u001b[0m \u001b[32m━━━━━━━━━━━━━━━━━━━━\u001b[0m\u001b[37m\u001b[0m \u001b[1m0s\u001b[0m 3ms/step - loss: 2266.6165 - root_mean_squared_error: 46.6961 - val_loss: 8892.4844 - val_root_mean_squared_error: 96.6015\n",
      "Epoch 13/250\n",
      "\u001b[1m22/22\u001b[0m \u001b[32m━━━━━━━━━━━━━━━━━━━━\u001b[0m\u001b[37m\u001b[0m \u001b[1m0s\u001b[0m 3ms/step - loss: 1259.6282 - root_mean_squared_error: 35.4113 - val_loss: 7786.8789 - val_root_mean_squared_error: 90.6906\n",
      "Epoch 14/250\n",
      "\u001b[1m22/22\u001b[0m \u001b[32m━━━━━━━━━━━━━━━━━━━━\u001b[0m\u001b[37m\u001b[0m \u001b[1m0s\u001b[0m 3ms/step - loss: 1064.1125 - root_mean_squared_error: 32.0864 - val_loss: 6794.5938 - val_root_mean_squared_error: 85.0133\n",
      "Epoch 15/250\n",
      "\u001b[1m22/22\u001b[0m \u001b[32m━━━━━━━━━━━━━━━━━━━━\u001b[0m\u001b[37m\u001b[0m \u001b[1m0s\u001b[0m 3ms/step - loss: 629.0043 - root_mean_squared_error: 24.7439 - val_loss: 6085.2393 - val_root_mean_squared_error: 80.6764\n",
      "Epoch 16/250\n",
      "\u001b[1m22/22\u001b[0m \u001b[32m━━━━━━━━━━━━━━━━━━━━\u001b[0m\u001b[37m\u001b[0m \u001b[1m0s\u001b[0m 3ms/step - loss: 1606.6744 - root_mean_squared_error: 38.9092 - val_loss: 5341.6943 - val_root_mean_squared_error: 75.8249\n",
      "Epoch 17/250\n",
      "\u001b[1m22/22\u001b[0m \u001b[32m━━━━━━━━━━━━━━━━━━━━\u001b[0m\u001b[37m\u001b[0m \u001b[1m0s\u001b[0m 3ms/step - loss: 712.3965 - root_mean_squared_error: 26.5520 - val_loss: 4808.9033 - val_root_mean_squared_error: 72.1049\n",
      "Epoch 18/250\n",
      "\u001b[1m22/22\u001b[0m \u001b[32m━━━━━━━━━━━━━━━━━━━━\u001b[0m\u001b[37m\u001b[0m \u001b[1m0s\u001b[0m 3ms/step - loss: 794.1035 - root_mean_squared_error: 27.7435 - val_loss: 4314.4482 - val_root_mean_squared_error: 68.4599\n",
      "Epoch 19/250\n",
      "\u001b[1m22/22\u001b[0m \u001b[32m━━━━━━━━━━━━━━━━━━━━\u001b[0m\u001b[37m\u001b[0m \u001b[1m0s\u001b[0m 3ms/step - loss: 788.8318 - root_mean_squared_error: 27.6573 - val_loss: 3918.8696 - val_root_mean_squared_error: 65.3037\n",
      "Epoch 20/250\n",
      "\u001b[1m22/22\u001b[0m \u001b[32m━━━━━━━━━━━━━━━━━━━━\u001b[0m\u001b[37m\u001b[0m \u001b[1m0s\u001b[0m 3ms/step - loss: 811.7830 - root_mean_squared_error: 28.1098 - val_loss: 3565.5884 - val_root_mean_squared_error: 62.3957\n",
      "Epoch 21/250\n",
      "\u001b[1m22/22\u001b[0m \u001b[32m━━━━━━━━━━━━━━━━━━━━\u001b[0m\u001b[37m\u001b[0m \u001b[1m0s\u001b[0m 3ms/step - loss: 633.9246 - root_mean_squared_error: 24.9132 - val_loss: 3297.0454 - val_root_mean_squared_error: 60.0107\n",
      "Epoch 22/250\n",
      "\u001b[1m22/22\u001b[0m \u001b[32m━━━━━━━━━━━━━━━━━━━━\u001b[0m\u001b[37m\u001b[0m \u001b[1m0s\u001b[0m 3ms/step - loss: 423.4512 - root_mean_squared_error: 19.7402 - val_loss: 3060.9011 - val_root_mean_squared_error: 57.8692\n",
      "Epoch 23/250\n",
      "\u001b[1m22/22\u001b[0m \u001b[32m━━━━━━━━━━━━━━━━━━━━\u001b[0m\u001b[37m\u001b[0m \u001b[1m0s\u001b[0m 3ms/step - loss: 713.6936 - root_mean_squared_error: 26.4134 - val_loss: 2797.3472 - val_root_mean_squared_error: 55.3313\n",
      "Epoch 24/250\n",
      "\u001b[1m22/22\u001b[0m \u001b[32m━━━━━━━━━━━━━━━━━━━━\u001b[0m\u001b[37m\u001b[0m \u001b[1m0s\u001b[0m 3ms/step - loss: 346.6106 - root_mean_squared_error: 18.0597 - val_loss: 2664.4656 - val_root_mean_squared_error: 53.9685\n",
      "Epoch 25/250\n",
      "\u001b[1m22/22\u001b[0m \u001b[32m━━━━━━━━━━━━━━━━━━━━\u001b[0m\u001b[37m\u001b[0m \u001b[1m0s\u001b[0m 3ms/step - loss: 515.7839 - root_mean_squared_error: 22.3146 - val_loss: 2388.0571 - val_root_mean_squared_error: 51.1065\n",
      "Epoch 26/250\n",
      "\u001b[1m22/22\u001b[0m \u001b[32m━━━━━━━━━━━━━━━━━━━━\u001b[0m\u001b[37m\u001b[0m \u001b[1m0s\u001b[0m 3ms/step - loss: 353.1198 - root_mean_squared_error: 18.3997 - val_loss: 2247.8743 - val_root_mean_squared_error: 49.5955\n",
      "Epoch 27/250\n",
      "\u001b[1m22/22\u001b[0m \u001b[32m━━━━━━━━━━━━━━━━━━━━\u001b[0m\u001b[37m\u001b[0m \u001b[1m0s\u001b[0m 3ms/step - loss: 455.4533 - root_mean_squared_error: 20.7664 - val_loss: 2034.4739 - val_root_mean_squared_error: 47.1474\n",
      "Epoch 28/250\n",
      "\u001b[1m22/22\u001b[0m \u001b[32m━━━━━━━━━━━━━━━━━━━━\u001b[0m\u001b[37m\u001b[0m \u001b[1m0s\u001b[0m 3ms/step - loss: 345.6950 - root_mean_squared_error: 17.9620 - val_loss: 1962.0867 - val_root_mean_squared_error: 46.1981\n",
      "Epoch 29/250\n",
      "\u001b[1m22/22\u001b[0m \u001b[32m━━━━━━━━━━━━━━━━━━━━\u001b[0m\u001b[37m\u001b[0m \u001b[1m0s\u001b[0m 3ms/step - loss: 592.4382 - root_mean_squared_error: 24.0049 - val_loss: 1777.0645 - val_root_mean_squared_error: 44.0264\n",
      "Epoch 30/250\n",
      "\u001b[1m22/22\u001b[0m \u001b[32m━━━━━━━━━━━━━━━━━━━━\u001b[0m\u001b[37m\u001b[0m \u001b[1m0s\u001b[0m 3ms/step - loss: 330.9473 - root_mean_squared_error: 17.6101 - val_loss: 1684.5182 - val_root_mean_squared_error: 42.8435\n",
      "Epoch 31/250\n",
      "\u001b[1m22/22\u001b[0m \u001b[32m━━━━━━━━━━━━━━━━━━━━\u001b[0m\u001b[37m\u001b[0m \u001b[1m0s\u001b[0m 3ms/step - loss: 467.5341 - root_mean_squared_error: 21.1636 - val_loss: 1562.4342 - val_root_mean_squared_error: 41.2220\n",
      "Epoch 32/250\n",
      "\u001b[1m22/22\u001b[0m \u001b[32m━━━━━━━━━━━━━━━━━━━━\u001b[0m\u001b[37m\u001b[0m \u001b[1m0s\u001b[0m 3ms/step - loss: 762.9887 - root_mean_squared_error: 26.8816 - val_loss: 1409.3044 - val_root_mean_squared_error: 39.1376\n",
      "Epoch 33/250\n",
      "\u001b[1m22/22\u001b[0m \u001b[32m━━━━━━━━━━━━━━━━━━━━\u001b[0m\u001b[37m\u001b[0m \u001b[1m0s\u001b[0m 3ms/step - loss: 614.5764 - root_mean_squared_error: 24.2045 - val_loss: 1294.0028 - val_root_mean_squared_error: 37.4834\n",
      "Epoch 34/250\n",
      "\u001b[1m22/22\u001b[0m \u001b[32m━━━━━━━━━━━━━━━━━━━━\u001b[0m\u001b[37m\u001b[0m \u001b[1m0s\u001b[0m 3ms/step - loss: 323.3168 - root_mean_squared_error: 17.2716 - val_loss: 1255.0320 - val_root_mean_squared_error: 36.8706\n",
      "Epoch 35/250\n",
      "\u001b[1m22/22\u001b[0m \u001b[32m━━━━━━━━━━━━━━━━━━━━\u001b[0m\u001b[37m\u001b[0m \u001b[1m0s\u001b[0m 3ms/step - loss: 545.6960 - root_mean_squared_error: 22.9630 - val_loss: 1170.7942 - val_root_mean_squared_error: 35.5621\n",
      "Epoch 36/250\n",
      "\u001b[1m22/22\u001b[0m \u001b[32m━━━━━━━━━━━━━━━━━━━━\u001b[0m\u001b[37m\u001b[0m \u001b[1m0s\u001b[0m 3ms/step - loss: 525.0642 - root_mean_squared_error: 22.4144 - val_loss: 1058.7576 - val_root_mean_squared_error: 33.8408\n",
      "Epoch 37/250\n",
      "\u001b[1m22/22\u001b[0m \u001b[32m━━━━━━━━━━━━━━━━━━━━\u001b[0m\u001b[37m\u001b[0m \u001b[1m0s\u001b[0m 3ms/step - loss: 505.3967 - root_mean_squared_error: 21.9489 - val_loss: 1030.1123 - val_root_mean_squared_error: 33.3579\n",
      "Epoch 38/250\n",
      "\u001b[1m22/22\u001b[0m \u001b[32m━━━━━━━━━━━━━━━━━━━━\u001b[0m\u001b[37m\u001b[0m \u001b[1m0s\u001b[0m 3ms/step - loss: 307.3560 - root_mean_squared_error: 17.2254 - val_loss: 998.6400 - val_root_mean_squared_error: 32.7294\n",
      "Epoch 39/250\n",
      "\u001b[1m22/22\u001b[0m \u001b[32m━━━━━━━━━━━━━━━━━━━━\u001b[0m\u001b[37m\u001b[0m \u001b[1m0s\u001b[0m 3ms/step - loss: 371.2827 - root_mean_squared_error: 19.0633 - val_loss: 1041.9589 - val_root_mean_squared_error: 33.2461\n",
      "Epoch 40/250\n",
      "\u001b[1m22/22\u001b[0m \u001b[32m━━━━━━━━━━━━━━━━━━━━\u001b[0m\u001b[37m\u001b[0m \u001b[1m0s\u001b[0m 3ms/step - loss: 304.4312 - root_mean_squared_error: 17.1713 - val_loss: 895.6364 - val_root_mean_squared_error: 30.9944\n",
      "Epoch 41/250\n",
      "\u001b[1m22/22\u001b[0m \u001b[32m━━━━━━━━━━━━━━━━━━━━\u001b[0m\u001b[37m\u001b[0m \u001b[1m0s\u001b[0m 3ms/step - loss: 368.4630 - root_mean_squared_error: 18.7366 - val_loss: 922.1050 - val_root_mean_squared_error: 31.2384\n",
      "Epoch 42/250\n",
      "\u001b[1m22/22\u001b[0m \u001b[32m━━━━━━━━━━━━━━━━━━━━\u001b[0m\u001b[37m\u001b[0m \u001b[1m0s\u001b[0m 3ms/step - loss: 325.4632 - root_mean_squared_error: 17.9421 - val_loss: 800.2102 - val_root_mean_squared_error: 29.3173\n",
      "Epoch 43/250\n",
      "\u001b[1m22/22\u001b[0m \u001b[32m━━━━━━━━━━━━━━━━━━━━\u001b[0m\u001b[37m\u001b[0m \u001b[1m0s\u001b[0m 3ms/step - loss: 515.5187 - root_mean_squared_error: 22.3047 - val_loss: 749.1512 - val_root_mean_squared_error: 28.3366\n",
      "Epoch 44/250\n",
      "\u001b[1m22/22\u001b[0m \u001b[32m━━━━━━━━━━━━━━━━━━━━\u001b[0m\u001b[37m\u001b[0m \u001b[1m0s\u001b[0m 3ms/step - loss: 345.5370 - root_mean_squared_error: 18.3327 - val_loss: 810.8153 - val_root_mean_squared_error: 29.2759\n",
      "Epoch 45/250\n",
      "\u001b[1m22/22\u001b[0m \u001b[32m━━━━━━━━━━━━━━━━━━━━\u001b[0m\u001b[37m\u001b[0m \u001b[1m0s\u001b[0m 3ms/step - loss: 308.3548 - root_mean_squared_error: 17.3054 - val_loss: 728.8456 - val_root_mean_squared_error: 27.8955\n",
      "Epoch 46/250\n",
      "\u001b[1m22/22\u001b[0m \u001b[32m━━━━━━━━━━━━━━━━━━━━\u001b[0m\u001b[37m\u001b[0m \u001b[1m0s\u001b[0m 3ms/step - loss: 311.0451 - root_mean_squared_error: 17.4376 - val_loss: 662.2070 - val_root_mean_squared_error: 26.6156\n",
      "Epoch 47/250\n",
      "\u001b[1m22/22\u001b[0m \u001b[32m━━━━━━━━━━━━━━━━━━━━\u001b[0m\u001b[37m\u001b[0m \u001b[1m0s\u001b[0m 3ms/step - loss: 261.6377 - root_mean_squared_error: 15.9457 - val_loss: 658.8779 - val_root_mean_squared_error: 26.4948\n",
      "Epoch 48/250\n",
      "\u001b[1m22/22\u001b[0m \u001b[32m━━━━━━━━━━━━━━━━━━━━\u001b[0m\u001b[37m\u001b[0m \u001b[1m0s\u001b[0m 3ms/step - loss: 236.9401 - root_mean_squared_error: 14.8940 - val_loss: 692.2504 - val_root_mean_squared_error: 26.9976\n",
      "Epoch 49/250\n",
      "\u001b[1m22/22\u001b[0m \u001b[32m━━━━━━━━━━━━━━━━━━━━\u001b[0m\u001b[37m\u001b[0m \u001b[1m0s\u001b[0m 3ms/step - loss: 499.3117 - root_mean_squared_error: 21.9951 - val_loss: 715.3711 - val_root_mean_squared_error: 27.4037\n",
      "Epoch 50/250\n",
      "\u001b[1m22/22\u001b[0m \u001b[32m━━━━━━━━━━━━━━━━━━━━\u001b[0m\u001b[37m\u001b[0m \u001b[1m0s\u001b[0m 3ms/step - loss: 333.7460 - root_mean_squared_error: 17.9301 - val_loss: 602.5234 - val_root_mean_squared_error: 25.3037\n",
      "Epoch 51/250\n",
      "\u001b[1m22/22\u001b[0m \u001b[32m━━━━━━━━━━━━━━━━━━━━\u001b[0m\u001b[37m\u001b[0m \u001b[1m0s\u001b[0m 3ms/step - loss: 225.7460 - root_mean_squared_error: 14.7109 - val_loss: 572.3205 - val_root_mean_squared_error: 24.6899\n",
      "Epoch 52/250\n",
      "\u001b[1m22/22\u001b[0m \u001b[32m━━━━━━━━━━━━━━━━━━━━\u001b[0m\u001b[37m\u001b[0m \u001b[1m0s\u001b[0m 3ms/step - loss: 276.5685 - root_mean_squared_error: 16.4765 - val_loss: 569.6036 - val_root_mean_squared_error: 24.6152\n",
      "Epoch 53/250\n",
      "\u001b[1m22/22\u001b[0m \u001b[32m━━━━━━━━━━━━━━━━━━━━\u001b[0m\u001b[37m\u001b[0m \u001b[1m0s\u001b[0m 3ms/step - loss: 397.5427 - root_mean_squared_error: 19.3421 - val_loss: 580.6733 - val_root_mean_squared_error: 24.7553\n",
      "Epoch 54/250\n",
      "\u001b[1m22/22\u001b[0m \u001b[32m━━━━━━━━━━━━━━━━━━━━\u001b[0m\u001b[37m\u001b[0m \u001b[1m0s\u001b[0m 3ms/step - loss: 280.9379 - root_mean_squared_error: 16.4594 - val_loss: 516.9523 - val_root_mean_squared_error: 23.4753\n",
      "Epoch 55/250\n",
      "\u001b[1m22/22\u001b[0m \u001b[32m━━━━━━━━━━━━━━━━━━━━\u001b[0m\u001b[37m\u001b[0m \u001b[1m0s\u001b[0m 3ms/step - loss: 384.9685 - root_mean_squared_error: 19.4095 - val_loss: 530.5536 - val_root_mean_squared_error: 23.6809\n",
      "Epoch 56/250\n",
      "\u001b[1m22/22\u001b[0m \u001b[32m━━━━━━━━━━━━━━━━━━━━\u001b[0m\u001b[37m\u001b[0m \u001b[1m0s\u001b[0m 3ms/step - loss: 361.0260 - root_mean_squared_error: 18.7831 - val_loss: 629.3472 - val_root_mean_squared_error: 25.8795\n",
      "Epoch 57/250\n",
      "\u001b[1m22/22\u001b[0m \u001b[32m━━━━━━━━━━━━━━━━━━━━\u001b[0m\u001b[37m\u001b[0m \u001b[1m0s\u001b[0m 2ms/step - loss: 265.2416 - root_mean_squared_error: 15.8800 - val_loss: 549.5620 - val_root_mean_squared_error: 24.1877\n",
      "Epoch 58/250\n",
      "\u001b[1m22/22\u001b[0m \u001b[32m━━━━━━━━━━━━━━━━━━━━\u001b[0m\u001b[37m\u001b[0m \u001b[1m0s\u001b[0m 3ms/step - loss: 227.2173 - root_mean_squared_error: 14.7442 - val_loss: 534.0117 - val_root_mean_squared_error: 23.8204\n",
      "Epoch 59/250\n",
      "\u001b[1m22/22\u001b[0m \u001b[32m━━━━━━━━━━━━━━━━━━━━\u001b[0m\u001b[37m\u001b[0m \u001b[1m0s\u001b[0m 3ms/step - loss: 198.1451 - root_mean_squared_error: 13.6983 - val_loss: 544.6602 - val_root_mean_squared_error: 24.0768\n",
      "Epoch 60/250\n",
      "\u001b[1m22/22\u001b[0m \u001b[32m━━━━━━━━━━━━━━━━━━━━\u001b[0m\u001b[37m\u001b[0m \u001b[1m0s\u001b[0m 3ms/step - loss: 399.1246 - root_mean_squared_error: 19.7010 - val_loss: 555.5497 - val_root_mean_squared_error: 24.2117\n",
      "Epoch 61/250\n",
      "\u001b[1m22/22\u001b[0m \u001b[32m━━━━━━━━━━━━━━━━━━━━\u001b[0m\u001b[37m\u001b[0m \u001b[1m0s\u001b[0m 3ms/step - loss: 391.7040 - root_mean_squared_error: 19.2300 - val_loss: 518.2552 - val_root_mean_squared_error: 23.4420\n",
      "Epoch 62/250\n",
      "\u001b[1m22/22\u001b[0m \u001b[32m━━━━━━━━━━━━━━━━━━━━\u001b[0m\u001b[37m\u001b[0m \u001b[1m0s\u001b[0m 3ms/step - loss: 383.8452 - root_mean_squared_error: 19.3401 - val_loss: 510.9322 - val_root_mean_squared_error: 23.2370\n",
      "Epoch 63/250\n",
      "\u001b[1m22/22\u001b[0m \u001b[32m━━━━━━━━━━━━━━━━━━━━\u001b[0m\u001b[37m\u001b[0m \u001b[1m0s\u001b[0m 3ms/step - loss: 226.1495 - root_mean_squared_error: 14.8643 - val_loss: 485.4962 - val_root_mean_squared_error: 22.7091\n",
      "Epoch 64/250\n",
      "\u001b[1m22/22\u001b[0m \u001b[32m━━━━━━━━━━━━━━━━━━━━\u001b[0m\u001b[37m\u001b[0m \u001b[1m0s\u001b[0m 3ms/step - loss: 336.1454 - root_mean_squared_error: 17.8475 - val_loss: 699.7281 - val_root_mean_squared_error: 27.1122\n",
      "Epoch 65/250\n",
      "\u001b[1m22/22\u001b[0m \u001b[32m━━━━━━━━━━━━━━━━━━━━\u001b[0m\u001b[37m\u001b[0m \u001b[1m0s\u001b[0m 3ms/step - loss: 318.5387 - root_mean_squared_error: 17.5595 - val_loss: 591.2324 - val_root_mean_squared_error: 25.1349\n",
      "Epoch 66/250\n",
      "\u001b[1m22/22\u001b[0m \u001b[32m━━━━━━━━━━━━━━━━━━━━\u001b[0m\u001b[37m\u001b[0m \u001b[1m0s\u001b[0m 3ms/step - loss: 419.9945 - root_mean_squared_error: 20.1480 - val_loss: 533.4651 - val_root_mean_squared_error: 23.8784\n",
      "Epoch 67/250\n",
      "\u001b[1m22/22\u001b[0m \u001b[32m━━━━━━━━━━━━━━━━━━━━\u001b[0m\u001b[37m\u001b[0m \u001b[1m0s\u001b[0m 3ms/step - loss: 203.4402 - root_mean_squared_error: 14.0436 - val_loss: 529.1940 - val_root_mean_squared_error: 23.7253\n",
      "Epoch 68/250\n",
      "\u001b[1m22/22\u001b[0m \u001b[32m━━━━━━━━━━━━━━━━━━━━\u001b[0m\u001b[37m\u001b[0m \u001b[1m0s\u001b[0m 3ms/step - loss: 245.3974 - root_mean_squared_error: 15.2256 - val_loss: 642.6372 - val_root_mean_squared_error: 26.1697\n",
      "Epoch 69/250\n",
      "\u001b[1m22/22\u001b[0m \u001b[32m━━━━━━━━━━━━━━━━━━━━\u001b[0m\u001b[37m\u001b[0m \u001b[1m0s\u001b[0m 3ms/step - loss: 356.1561 - root_mean_squared_error: 18.5883 - val_loss: 681.6658 - val_root_mean_squared_error: 26.5773\n",
      "Epoch 70/250\n",
      "\u001b[1m22/22\u001b[0m \u001b[32m━━━━━━━━━━━━━━━━━━━━\u001b[0m\u001b[37m\u001b[0m \u001b[1m0s\u001b[0m 3ms/step - loss: 253.1380 - root_mean_squared_error: 15.8050 - val_loss: 675.9229 - val_root_mean_squared_error: 26.7403\n",
      "Epoch 71/250\n",
      "\u001b[1m22/22\u001b[0m \u001b[32m━━━━━━━━━━━━━━━━━━━━\u001b[0m\u001b[37m\u001b[0m \u001b[1m0s\u001b[0m 3ms/step - loss: 254.9588 - root_mean_squared_error: 15.6662 - val_loss: 713.8369 - val_root_mean_squared_error: 27.3211\n",
      "Epoch 72/250\n",
      "\u001b[1m22/22\u001b[0m \u001b[32m━━━━━━━━━━━━━━━━━━━━\u001b[0m\u001b[37m\u001b[0m \u001b[1m0s\u001b[0m 3ms/step - loss: 279.0746 - root_mean_squared_error: 16.3833 - val_loss: 580.5190 - val_root_mean_squared_error: 24.8997\n",
      "Epoch 73/250\n",
      "\u001b[1m22/22\u001b[0m \u001b[32m━━━━━━━━━━━━━━━━━━━━\u001b[0m\u001b[37m\u001b[0m \u001b[1m0s\u001b[0m 3ms/step - loss: 301.7466 - root_mean_squared_error: 16.9677 - val_loss: 563.5974 - val_root_mean_squared_error: 24.4806\n",
      "Epoch 74/250\n",
      "\u001b[1m22/22\u001b[0m \u001b[32m━━━━━━━━━━━━━━━━━━━━\u001b[0m\u001b[37m\u001b[0m \u001b[1m0s\u001b[0m 3ms/step - loss: 269.0619 - root_mean_squared_error: 15.9770 - val_loss: 525.7931 - val_root_mean_squared_error: 23.6511\n",
      "Epoch 75/250\n",
      "\u001b[1m22/22\u001b[0m \u001b[32m━━━━━━━━━━━━━━━━━━━━\u001b[0m\u001b[37m\u001b[0m \u001b[1m0s\u001b[0m 3ms/step - loss: 280.2095 - root_mean_squared_error: 16.2989 - val_loss: 504.6887 - val_root_mean_squared_error: 23.1534\n",
      "Epoch 76/250\n",
      "\u001b[1m22/22\u001b[0m \u001b[32m━━━━━━━━━━━━━━━━━━━━\u001b[0m\u001b[37m\u001b[0m \u001b[1m0s\u001b[0m 3ms/step - loss: 221.9651 - root_mean_squared_error: 14.7461 - val_loss: 520.5709 - val_root_mean_squared_error: 23.5814\n",
      "Epoch 77/250\n",
      "\u001b[1m22/22\u001b[0m \u001b[32m━━━━━━━━━━━━━━━━━━━━\u001b[0m\u001b[37m\u001b[0m \u001b[1m0s\u001b[0m 3ms/step - loss: 372.2004 - root_mean_squared_error: 19.0191 - val_loss: 508.4055 - val_root_mean_squared_error: 23.1999\n",
      "Epoch 78/250\n",
      "\u001b[1m22/22\u001b[0m \u001b[32m━━━━━━━━━━━━━━━━━━━━\u001b[0m\u001b[37m\u001b[0m \u001b[1m0s\u001b[0m 3ms/step - loss: 445.4261 - root_mean_squared_error: 20.7215 - val_loss: 489.7728 - val_root_mean_squared_error: 22.7562\n",
      "Epoch 79/250\n",
      "\u001b[1m22/22\u001b[0m \u001b[32m━━━━━━━━━━━━━━━━━━━━\u001b[0m\u001b[37m\u001b[0m \u001b[1m0s\u001b[0m 3ms/step - loss: 497.1203 - root_mean_squared_error: 21.4686 - val_loss: 488.0141 - val_root_mean_squared_error: 22.7605\n",
      "Epoch 80/250\n",
      "\u001b[1m22/22\u001b[0m \u001b[32m━━━━━━━━━━━━━━━━━━━━\u001b[0m\u001b[37m\u001b[0m \u001b[1m0s\u001b[0m 3ms/step - loss: 309.5888 - root_mean_squared_error: 17.3154 - val_loss: 471.1510 - val_root_mean_squared_error: 22.3227\n",
      "Epoch 81/250\n",
      "\u001b[1m22/22\u001b[0m \u001b[32m━━━━━━━━━━━━━━━━━━━━\u001b[0m\u001b[37m\u001b[0m \u001b[1m0s\u001b[0m 3ms/step - loss: 223.0063 - root_mean_squared_error: 14.4244 - val_loss: 491.8301 - val_root_mean_squared_error: 22.8060\n",
      "Epoch 82/250\n",
      "\u001b[1m22/22\u001b[0m \u001b[32m━━━━━━━━━━━━━━━━━━━━\u001b[0m\u001b[37m\u001b[0m \u001b[1m0s\u001b[0m 3ms/step - loss: 439.4601 - root_mean_squared_error: 20.7742 - val_loss: 549.9173 - val_root_mean_squared_error: 24.0946\n",
      "Epoch 83/250\n",
      "\u001b[1m22/22\u001b[0m \u001b[32m━━━━━━━━━━━━━━━━━━━━\u001b[0m\u001b[37m\u001b[0m \u001b[1m0s\u001b[0m 3ms/step - loss: 412.0510 - root_mean_squared_error: 20.0031 - val_loss: 637.1747 - val_root_mean_squared_error: 25.8013\n",
      "Epoch 84/250\n",
      "\u001b[1m22/22\u001b[0m \u001b[32m━━━━━━━━━━━━━━━━━━━━\u001b[0m\u001b[37m\u001b[0m \u001b[1m0s\u001b[0m 3ms/step - loss: 261.5275 - root_mean_squared_error: 15.9601 - val_loss: 548.6235 - val_root_mean_squared_error: 24.1950\n",
      "Epoch 85/250\n",
      "\u001b[1m22/22\u001b[0m \u001b[32m━━━━━━━━━━━━━━━━━━━━\u001b[0m\u001b[37m\u001b[0m \u001b[1m0s\u001b[0m 3ms/step - loss: 544.1415 - root_mean_squared_error: 22.3674 - val_loss: 540.2160 - val_root_mean_squared_error: 23.9345\n",
      "Epoch 86/250\n",
      "\u001b[1m22/22\u001b[0m \u001b[32m━━━━━━━━━━━━━━━━━━━━\u001b[0m\u001b[37m\u001b[0m \u001b[1m0s\u001b[0m 3ms/step - loss: 348.2307 - root_mean_squared_error: 18.3308 - val_loss: 499.5528 - val_root_mean_squared_error: 23.0851\n",
      "Epoch 87/250\n",
      "\u001b[1m22/22\u001b[0m \u001b[32m━━━━━━━━━━━━━━━━━━━━\u001b[0m\u001b[37m\u001b[0m \u001b[1m0s\u001b[0m 3ms/step - loss: 287.4600 - root_mean_squared_error: 16.6331 - val_loss: 503.4584 - val_root_mean_squared_error: 23.1073\n",
      "Epoch 88/250\n",
      "\u001b[1m22/22\u001b[0m \u001b[32m━━━━━━━━━━━━━━━━━━━━\u001b[0m\u001b[37m\u001b[0m \u001b[1m0s\u001b[0m 3ms/step - loss: 287.2723 - root_mean_squared_error: 16.6521 - val_loss: 454.7787 - val_root_mean_squared_error: 22.0003\n",
      "Epoch 89/250\n",
      "\u001b[1m22/22\u001b[0m \u001b[32m━━━━━━━━━━━━━━━━━━━━\u001b[0m\u001b[37m\u001b[0m \u001b[1m0s\u001b[0m 2ms/step - loss: 231.8162 - root_mean_squared_error: 14.8757 - val_loss: 516.8889 - val_root_mean_squared_error: 23.2660\n",
      "Epoch 90/250\n",
      "\u001b[1m22/22\u001b[0m \u001b[32m━━━━━━━━━━━━━━━━━━━━\u001b[0m\u001b[37m\u001b[0m \u001b[1m0s\u001b[0m 3ms/step - loss: 285.2724 - root_mean_squared_error: 16.7418 - val_loss: 460.3968 - val_root_mean_squared_error: 22.0937\n",
      "Epoch 91/250\n",
      "\u001b[1m22/22\u001b[0m \u001b[32m━━━━━━━━━━━━━━━━━━━━\u001b[0m\u001b[37m\u001b[0m \u001b[1m0s\u001b[0m 2ms/step - loss: 350.0858 - root_mean_squared_error: 18.3917 - val_loss: 486.3579 - val_root_mean_squared_error: 22.6644\n",
      "Epoch 92/250\n",
      "\u001b[1m22/22\u001b[0m \u001b[32m━━━━━━━━━━━━━━━━━━━━\u001b[0m\u001b[37m\u001b[0m \u001b[1m0s\u001b[0m 3ms/step - loss: 270.7388 - root_mean_squared_error: 16.0644 - val_loss: 524.0269 - val_root_mean_squared_error: 23.3866\n",
      "Epoch 93/250\n",
      "\u001b[1m22/22\u001b[0m \u001b[32m━━━━━━━━━━━━━━━━━━━━\u001b[0m\u001b[37m\u001b[0m \u001b[1m0s\u001b[0m 3ms/step - loss: 428.5262 - root_mean_squared_error: 20.5177 - val_loss: 448.3488 - val_root_mean_squared_error: 21.7521\n",
      "Epoch 94/250\n",
      "\u001b[1m22/22\u001b[0m \u001b[32m━━━━━━━━━━━━━━━━━━━━\u001b[0m\u001b[37m\u001b[0m \u001b[1m0s\u001b[0m 3ms/step - loss: 330.6743 - root_mean_squared_error: 17.7777 - val_loss: 445.5515 - val_root_mean_squared_error: 21.7317\n",
      "Epoch 95/250\n",
      "\u001b[1m22/22\u001b[0m \u001b[32m━━━━━━━━━━━━━━━━━━━━\u001b[0m\u001b[37m\u001b[0m \u001b[1m0s\u001b[0m 3ms/step - loss: 354.8167 - root_mean_squared_error: 18.7211 - val_loss: 471.2227 - val_root_mean_squared_error: 22.2750\n",
      "Epoch 96/250\n",
      "\u001b[1m22/22\u001b[0m \u001b[32m━━━━━━━━━━━━━━━━━━━━\u001b[0m\u001b[37m\u001b[0m \u001b[1m0s\u001b[0m 5ms/step - loss: 246.6446 - root_mean_squared_error: 15.4974 - val_loss: 470.8541 - val_root_mean_squared_error: 22.2694\n",
      "Epoch 97/250\n",
      "\u001b[1m22/22\u001b[0m \u001b[32m━━━━━━━━━━━━━━━━━━━━\u001b[0m\u001b[37m\u001b[0m \u001b[1m0s\u001b[0m 3ms/step - loss: 319.1939 - root_mean_squared_error: 17.7340 - val_loss: 654.5052 - val_root_mean_squared_error: 26.4083\n",
      "Epoch 98/250\n",
      "\u001b[1m22/22\u001b[0m \u001b[32m━━━━━━━━━━━━━━━━━━━━\u001b[0m\u001b[37m\u001b[0m \u001b[1m0s\u001b[0m 3ms/step - loss: 342.6324 - root_mean_squared_error: 18.3850 - val_loss: 527.7603 - val_root_mean_squared_error: 23.5960\n",
      "Epoch 99/250\n",
      "\u001b[1m22/22\u001b[0m \u001b[32m━━━━━━━━━━━━━━━━━━━━\u001b[0m\u001b[37m\u001b[0m \u001b[1m0s\u001b[0m 3ms/step - loss: 339.2359 - root_mean_squared_error: 18.2566 - val_loss: 440.5853 - val_root_mean_squared_error: 21.5637\n",
      "Epoch 100/250\n",
      "\u001b[1m22/22\u001b[0m \u001b[32m━━━━━━━━━━━━━━━━━━━━\u001b[0m\u001b[37m\u001b[0m \u001b[1m0s\u001b[0m 3ms/step - loss: 402.0887 - root_mean_squared_error: 19.9182 - val_loss: 404.5798 - val_root_mean_squared_error: 20.6067\n",
      "Epoch 101/250\n",
      "\u001b[1m22/22\u001b[0m \u001b[32m━━━━━━━━━━━━━━━━━━━━\u001b[0m\u001b[37m\u001b[0m \u001b[1m0s\u001b[0m 3ms/step - loss: 291.8324 - root_mean_squared_error: 16.8201 - val_loss: 452.6566 - val_root_mean_squared_error: 21.7017\n",
      "Epoch 102/250\n",
      "\u001b[1m22/22\u001b[0m \u001b[32m━━━━━━━━━━━━━━━━━━━━\u001b[0m\u001b[37m\u001b[0m \u001b[1m0s\u001b[0m 2ms/step - loss: 465.2042 - root_mean_squared_error: 21.3708 - val_loss: 405.7928 - val_root_mean_squared_error: 20.6184\n",
      "Epoch 103/250\n",
      "\u001b[1m22/22\u001b[0m \u001b[32m━━━━━━━━━━━━━━━━━━━━\u001b[0m\u001b[37m\u001b[0m \u001b[1m0s\u001b[0m 2ms/step - loss: 211.0234 - root_mean_squared_error: 14.4300 - val_loss: 463.8021 - val_root_mean_squared_error: 22.0096\n",
      "Epoch 104/250\n",
      "\u001b[1m22/22\u001b[0m \u001b[32m━━━━━━━━━━━━━━━━━━━━\u001b[0m\u001b[37m\u001b[0m \u001b[1m0s\u001b[0m 3ms/step - loss: 257.5780 - root_mean_squared_error: 15.8368 - val_loss: 515.6771 - val_root_mean_squared_error: 23.3161\n",
      "Epoch 105/250\n",
      "\u001b[1m22/22\u001b[0m \u001b[32m━━━━━━━━━━━━━━━━━━━━\u001b[0m\u001b[37m\u001b[0m \u001b[1m0s\u001b[0m 3ms/step - loss: 321.5377 - root_mean_squared_error: 17.7999 - val_loss: 451.6813 - val_root_mean_squared_error: 21.7621\n",
      "Epoch 106/250\n",
      "\u001b[1m22/22\u001b[0m \u001b[32m━━━━━━━━━━━━━━━━━━━━\u001b[0m\u001b[37m\u001b[0m \u001b[1m0s\u001b[0m 3ms/step - loss: 273.8997 - root_mean_squared_error: 16.3981 - val_loss: 417.5995 - val_root_mean_squared_error: 20.9081\n",
      "Epoch 107/250\n",
      "\u001b[1m22/22\u001b[0m \u001b[32m━━━━━━━━━━━━━━━━━━━━\u001b[0m\u001b[37m\u001b[0m \u001b[1m0s\u001b[0m 3ms/step - loss: 235.8867 - root_mean_squared_error: 15.1839 - val_loss: 418.3969 - val_root_mean_squared_error: 20.9952\n",
      "Epoch 108/250\n",
      "\u001b[1m22/22\u001b[0m \u001b[32m━━━━━━━━━━━━━━━━━━━━\u001b[0m\u001b[37m\u001b[0m \u001b[1m0s\u001b[0m 2ms/step - loss: 356.0756 - root_mean_squared_error: 18.5025 - val_loss: 441.9805 - val_root_mean_squared_error: 21.4824\n",
      "Epoch 109/250\n",
      "\u001b[1m22/22\u001b[0m \u001b[32m━━━━━━━━━━━━━━━━━━━━\u001b[0m\u001b[37m\u001b[0m \u001b[1m0s\u001b[0m 3ms/step - loss: 373.1597 - root_mean_squared_error: 18.6681 - val_loss: 432.8433 - val_root_mean_squared_error: 21.3679\n",
      "Epoch 110/250\n",
      "\u001b[1m22/22\u001b[0m \u001b[32m━━━━━━━━━━━━━━━━━━━━\u001b[0m\u001b[37m\u001b[0m \u001b[1m0s\u001b[0m 3ms/step - loss: 196.1944 - root_mean_squared_error: 13.8335 - val_loss: 418.5821 - val_root_mean_squared_error: 20.8431\n",
      "Epoch 111/250\n",
      "\u001b[1m22/22\u001b[0m \u001b[32m━━━━━━━━━━━━━━━━━━━━\u001b[0m\u001b[37m\u001b[0m \u001b[1m0s\u001b[0m 3ms/step - loss: 224.2077 - root_mean_squared_error: 14.7481 - val_loss: 416.7662 - val_root_mean_squared_error: 20.8517\n",
      "Epoch 112/250\n",
      "\u001b[1m22/22\u001b[0m \u001b[32m━━━━━━━━━━━━━━━━━━━━\u001b[0m\u001b[37m\u001b[0m \u001b[1m0s\u001b[0m 3ms/step - loss: 335.6197 - root_mean_squared_error: 18.0563 - val_loss: 421.4690 - val_root_mean_squared_error: 21.0091\n",
      "Epoch 113/250\n",
      "\u001b[1m22/22\u001b[0m \u001b[32m━━━━━━━━━━━━━━━━━━━━\u001b[0m\u001b[37m\u001b[0m \u001b[1m0s\u001b[0m 3ms/step - loss: 238.5611 - root_mean_squared_error: 15.3367 - val_loss: 432.2437 - val_root_mean_squared_error: 21.2542\n",
      "Epoch 114/250\n",
      "\u001b[1m22/22\u001b[0m \u001b[32m━━━━━━━━━━━━━━━━━━━━\u001b[0m\u001b[37m\u001b[0m \u001b[1m0s\u001b[0m 3ms/step - loss: 235.5305 - root_mean_squared_error: 15.2088 - val_loss: 450.4131 - val_root_mean_squared_error: 21.6418\n",
      "Epoch 115/250\n",
      "\u001b[1m22/22\u001b[0m \u001b[32m━━━━━━━━━━━━━━━━━━━━\u001b[0m\u001b[37m\u001b[0m \u001b[1m0s\u001b[0m 3ms/step - loss: 307.7377 - root_mean_squared_error: 17.3876 - val_loss: 418.6305 - val_root_mean_squared_error: 20.9401\n",
      "Epoch 116/250\n",
      "\u001b[1m22/22\u001b[0m \u001b[32m━━━━━━━━━━━━━━━━━━━━\u001b[0m\u001b[37m\u001b[0m \u001b[1m0s\u001b[0m 3ms/step - loss: 240.3976 - root_mean_squared_error: 15.4072 - val_loss: 416.1181 - val_root_mean_squared_error: 20.7903\n",
      "Epoch 117/250\n",
      "\u001b[1m22/22\u001b[0m \u001b[32m━━━━━━━━━━━━━━━━━━━━\u001b[0m\u001b[37m\u001b[0m \u001b[1m0s\u001b[0m 3ms/step - loss: 239.9226 - root_mean_squared_error: 15.2846 - val_loss: 480.4945 - val_root_mean_squared_error: 22.4197\n",
      "Epoch 118/250\n",
      "\u001b[1m22/22\u001b[0m \u001b[32m━━━━━━━━━━━━━━━━━━━━\u001b[0m\u001b[37m\u001b[0m \u001b[1m0s\u001b[0m 3ms/step - loss: 242.1048 - root_mean_squared_error: 15.3899 - val_loss: 447.8798 - val_root_mean_squared_error: 21.7347\n",
      "Epoch 119/250\n",
      "\u001b[1m22/22\u001b[0m \u001b[32m━━━━━━━━━━━━━━━━━━━━\u001b[0m\u001b[37m\u001b[0m \u001b[1m0s\u001b[0m 3ms/step - loss: 212.2725 - root_mean_squared_error: 14.4462 - val_loss: 400.7291 - val_root_mean_squared_error: 20.4619\n",
      "Epoch 120/250\n",
      "\u001b[1m22/22\u001b[0m \u001b[32m━━━━━━━━━━━━━━━━━━━━\u001b[0m\u001b[37m\u001b[0m \u001b[1m0s\u001b[0m 3ms/step - loss: 275.5924 - root_mean_squared_error: 16.5040 - val_loss: 569.7161 - val_root_mean_squared_error: 24.5399\n",
      "Epoch 121/250\n",
      "\u001b[1m22/22\u001b[0m \u001b[32m━━━━━━━━━━━━━━━━━━━━\u001b[0m\u001b[37m\u001b[0m \u001b[1m0s\u001b[0m 3ms/step - loss: 371.2563 - root_mean_squared_error: 18.9937 - val_loss: 467.6501 - val_root_mean_squared_error: 22.0927\n",
      "Epoch 122/250\n",
      "\u001b[1m22/22\u001b[0m \u001b[32m━━━━━━━━━━━━━━━━━━━━\u001b[0m\u001b[37m\u001b[0m \u001b[1m0s\u001b[0m 3ms/step - loss: 262.9616 - root_mean_squared_error: 15.9931 - val_loss: 427.1215 - val_root_mean_squared_error: 21.1122\n",
      "Epoch 123/250\n",
      "\u001b[1m22/22\u001b[0m \u001b[32m━━━━━━━━━━━━━━━━━━━━\u001b[0m\u001b[37m\u001b[0m \u001b[1m0s\u001b[0m 3ms/step - loss: 327.8689 - root_mean_squared_error: 17.8293 - val_loss: 449.3291 - val_root_mean_squared_error: 21.5633\n",
      "Epoch 124/250\n",
      "\u001b[1m22/22\u001b[0m \u001b[32m━━━━━━━━━━━━━━━━━━━━\u001b[0m\u001b[37m\u001b[0m \u001b[1m0s\u001b[0m 3ms/step - loss: 255.4496 - root_mean_squared_error: 15.7615 - val_loss: 422.0586 - val_root_mean_squared_error: 21.0130\n",
      "Epoch 125/250\n",
      "\u001b[1m22/22\u001b[0m \u001b[32m━━━━━━━━━━━━━━━━━━━━\u001b[0m\u001b[37m\u001b[0m \u001b[1m0s\u001b[0m 5ms/step - loss: 350.0284 - root_mean_squared_error: 18.5370 - val_loss: 436.1801 - val_root_mean_squared_error: 21.4434\n",
      "Epoch 126/250\n",
      "\u001b[1m22/22\u001b[0m \u001b[32m━━━━━━━━━━━━━━━━━━━━\u001b[0m\u001b[37m\u001b[0m \u001b[1m0s\u001b[0m 3ms/step - loss: 247.0444 - root_mean_squared_error: 15.6050 - val_loss: 431.9339 - val_root_mean_squared_error: 21.3543\n",
      "Epoch 127/250\n",
      "\u001b[1m22/22\u001b[0m \u001b[32m━━━━━━━━━━━━━━━━━━━━\u001b[0m\u001b[37m\u001b[0m \u001b[1m0s\u001b[0m 3ms/step - loss: 294.6236 - root_mean_squared_error: 16.6943 - val_loss: 408.5212 - val_root_mean_squared_error: 20.6586\n",
      "Epoch 128/250\n",
      "\u001b[1m22/22\u001b[0m \u001b[32m━━━━━━━━━━━━━━━━━━━━\u001b[0m\u001b[37m\u001b[0m \u001b[1m0s\u001b[0m 3ms/step - loss: 293.0633 - root_mean_squared_error: 16.8908 - val_loss: 539.7729 - val_root_mean_squared_error: 23.9487\n",
      "Epoch 129/250\n",
      "\u001b[1m22/22\u001b[0m \u001b[32m━━━━━━━━━━━━━━━━━━━━\u001b[0m\u001b[37m\u001b[0m \u001b[1m0s\u001b[0m 3ms/step - loss: 243.0555 - root_mean_squared_error: 15.1661 - val_loss: 428.4615 - val_root_mean_squared_error: 21.1743\n",
      "Epoch 130/250\n",
      "\u001b[1m22/22\u001b[0m \u001b[32m━━━━━━━━━━━━━━━━━━━━\u001b[0m\u001b[37m\u001b[0m \u001b[1m0s\u001b[0m 3ms/step - loss: 343.2194 - root_mean_squared_error: 18.3108 - val_loss: 437.4268 - val_root_mean_squared_error: 21.4953\n",
      "Epoch 131/250\n",
      "\u001b[1m22/22\u001b[0m \u001b[32m━━━━━━━━━━━━━━━━━━━━\u001b[0m\u001b[37m\u001b[0m \u001b[1m0s\u001b[0m 3ms/step - loss: 226.3896 - root_mean_squared_error: 14.6867 - val_loss: 433.8250 - val_root_mean_squared_error: 21.3406\n",
      "Epoch 132/250\n",
      "\u001b[1m22/22\u001b[0m \u001b[32m━━━━━━━━━━━━━━━━━━━━\u001b[0m\u001b[37m\u001b[0m \u001b[1m0s\u001b[0m 3ms/step - loss: 292.5260 - root_mean_squared_error: 16.9440 - val_loss: 404.7879 - val_root_mean_squared_error: 20.5586\n",
      "Epoch 133/250\n",
      "\u001b[1m22/22\u001b[0m \u001b[32m━━━━━━━━━━━━━━━━━━━━\u001b[0m\u001b[37m\u001b[0m \u001b[1m0s\u001b[0m 3ms/step - loss: 275.6717 - root_mean_squared_error: 16.3485 - val_loss: 560.0425 - val_root_mean_squared_error: 24.3095\n",
      "Epoch 134/250\n",
      "\u001b[1m22/22\u001b[0m \u001b[32m━━━━━━━━━━━━━━━━━━━━\u001b[0m\u001b[37m\u001b[0m \u001b[1m0s\u001b[0m 3ms/step - loss: 378.7576 - root_mean_squared_error: 19.0468 - val_loss: 465.3991 - val_root_mean_squared_error: 22.1467\n",
      "Epoch 135/250\n",
      "\u001b[1m22/22\u001b[0m \u001b[32m━━━━━━━━━━━━━━━━━━━━\u001b[0m\u001b[37m\u001b[0m \u001b[1m0s\u001b[0m 2ms/step - loss: 211.9273 - root_mean_squared_error: 14.3534 - val_loss: 424.0190 - val_root_mean_squared_error: 21.0878\n",
      "Epoch 136/250\n",
      "\u001b[1m22/22\u001b[0m \u001b[32m━━━━━━━━━━━━━━━━━━━━\u001b[0m\u001b[37m\u001b[0m \u001b[1m0s\u001b[0m 3ms/step - loss: 186.7007 - root_mean_squared_error: 13.2576 - val_loss: 417.9527 - val_root_mean_squared_error: 20.9886\n",
      "Epoch 137/250\n",
      "\u001b[1m22/22\u001b[0m \u001b[32m━━━━━━━━━━━━━━━━━━━━\u001b[0m\u001b[37m\u001b[0m \u001b[1m0s\u001b[0m 3ms/step - loss: 264.2577 - root_mean_squared_error: 16.1178 - val_loss: 424.3355 - val_root_mean_squared_error: 21.0987\n",
      "Epoch 138/250\n",
      "\u001b[1m22/22\u001b[0m \u001b[32m━━━━━━━━━━━━━━━━━━━━\u001b[0m\u001b[37m\u001b[0m \u001b[1m0s\u001b[0m 3ms/step - loss: 313.5058 - root_mean_squared_error: 17.5827 - val_loss: 441.9257 - val_root_mean_squared_error: 21.6153\n",
      "Epoch 139/250\n",
      "\u001b[1m22/22\u001b[0m \u001b[32m━━━━━━━━━━━━━━━━━━━━\u001b[0m\u001b[37m\u001b[0m \u001b[1m0s\u001b[0m 2ms/step - loss: 214.3579 - root_mean_squared_error: 14.5138 - val_loss: 453.6960 - val_root_mean_squared_error: 21.8919\n",
      "Epoch 140/250\n",
      "\u001b[1m22/22\u001b[0m \u001b[32m━━━━━━━━━━━━━━━━━━━━\u001b[0m\u001b[37m\u001b[0m \u001b[1m0s\u001b[0m 3ms/step - loss: 386.1853 - root_mean_squared_error: 18.7248 - val_loss: 457.9233 - val_root_mean_squared_error: 21.7152\n",
      "Epoch 141/250\n",
      "\u001b[1m22/22\u001b[0m \u001b[32m━━━━━━━━━━━━━━━━━━━━\u001b[0m\u001b[37m\u001b[0m \u001b[1m0s\u001b[0m 3ms/step - loss: 359.4005 - root_mean_squared_error: 18.6607 - val_loss: 464.5479 - val_root_mean_squared_error: 22.1741\n",
      "Epoch 142/250\n",
      "\u001b[1m22/22\u001b[0m \u001b[32m━━━━━━━━━━━━━━━━━━━━\u001b[0m\u001b[37m\u001b[0m \u001b[1m0s\u001b[0m 3ms/step - loss: 264.4420 - root_mean_squared_error: 16.0216 - val_loss: 496.8972 - val_root_mean_squared_error: 22.8341\n",
      "Epoch 143/250\n",
      "\u001b[1m22/22\u001b[0m \u001b[32m━━━━━━━━━━━━━━━━━━━━\u001b[0m\u001b[37m\u001b[0m \u001b[1m0s\u001b[0m 3ms/step - loss: 275.5992 - root_mean_squared_error: 16.4244 - val_loss: 455.8594 - val_root_mean_squared_error: 21.9243\n",
      "Epoch 144/250\n",
      "\u001b[1m22/22\u001b[0m \u001b[32m━━━━━━━━━━━━━━━━━━━━\u001b[0m\u001b[37m\u001b[0m \u001b[1m0s\u001b[0m 6ms/step - loss: 224.5403 - root_mean_squared_error: 14.7177 - val_loss: 529.0612 - val_root_mean_squared_error: 23.3491\n",
      "Epoch 144: early stopping\n",
      "Restoring model weights from the end of the best epoch: 119.\n"
     ]
    },
    {
     "data": {
      "text/plain": [
       "<keras.src.callbacks.history.History at 0x2cb720f70>"
      ]
     },
     "metadata": {},
     "output_type": "display_data"
    }
   ],
   "source": [
    "model.fit(X, y, validation_data=(X_val, y_val), epochs = 250, callbacks =[early_stopping, cp])"
   ]
  },
  {
   "cell_type": "code",
   "execution_count": null,
   "metadata": {},
   "outputs": [
    {
     "name": "stdout",
     "output_type": "stream",
     "text": [
      "\u001b[1m1/1\u001b[0m \u001b[32m━━━━━━━━━━━━━━━━━━━━\u001b[0m\u001b[37m\u001b[0m \u001b[1m0s\u001b[0m 75ms/step\n",
      "\u001b[1m1/1\u001b[0m \u001b[32m━━━━━━━━━━━━━━━━━━━━\u001b[0m\u001b[37m\u001b[0m \u001b[1m0s\u001b[0m 10ms/step\n",
      "\u001b[1m1/1\u001b[0m \u001b[32m━━━━━━━━━━━━━━━━━━━━\u001b[0m\u001b[37m\u001b[0m \u001b[1m0s\u001b[0m 10ms/step\n",
      "\u001b[1m1/1\u001b[0m \u001b[32m━━━━━━━━━━━━━━━━━━━━\u001b[0m\u001b[37m\u001b[0m \u001b[1m0s\u001b[0m 10ms/step\n",
      "\u001b[1m1/1\u001b[0m \u001b[32m━━━━━━━━━━━━━━━━━━━━\u001b[0m\u001b[37m\u001b[0m \u001b[1m0s\u001b[0m 10ms/step\n",
      "\u001b[1m1/1\u001b[0m \u001b[32m━━━━━━━━━━━━━━━━━━━━\u001b[0m\u001b[37m\u001b[0m \u001b[1m0s\u001b[0m 10ms/step\n",
      "\u001b[1m1/1\u001b[0m \u001b[32m━━━━━━━━━━━━━━━━━━━━\u001b[0m\u001b[37m\u001b[0m \u001b[1m0s\u001b[0m 11ms/step\n",
      "\u001b[1m1/1\u001b[0m \u001b[32m━━━━━━━━━━━━━━━━━━━━\u001b[0m\u001b[37m\u001b[0m \u001b[1m0s\u001b[0m 9ms/step\n",
      "\u001b[1m1/1\u001b[0m \u001b[32m━━━━━━━━━━━━━━━━━━━━\u001b[0m\u001b[37m\u001b[0m \u001b[1m0s\u001b[0m 10ms/step\n",
      "\u001b[1m1/1\u001b[0m \u001b[32m━━━━━━━━━━━━━━━━━━━━\u001b[0m\u001b[37m\u001b[0m \u001b[1m0s\u001b[0m 10ms/step\n",
      "\u001b[1m1/1\u001b[0m \u001b[32m━━━━━━━━━━━━━━━━━━━━\u001b[0m\u001b[37m\u001b[0m \u001b[1m0s\u001b[0m 9ms/step\n",
      "\u001b[1m1/1\u001b[0m \u001b[32m━━━━━━━━━━━━━━━━━━━━\u001b[0m\u001b[37m\u001b[0m \u001b[1m0s\u001b[0m 10ms/step\n",
      "\u001b[1m1/1\u001b[0m \u001b[32m━━━━━━━━━━━━━━━━━━━━\u001b[0m\u001b[37m\u001b[0m \u001b[1m0s\u001b[0m 10ms/step\n",
      "\u001b[1m1/1\u001b[0m \u001b[32m━━━━━━━━━━━━━━━━━━━━\u001b[0m\u001b[37m\u001b[0m \u001b[1m0s\u001b[0m 10ms/step\n",
      "\u001b[1m1/1\u001b[0m \u001b[32m━━━━━━━━━━━━━━━━━━━━\u001b[0m\u001b[37m\u001b[0m \u001b[1m0s\u001b[0m 10ms/step\n",
      "[118.67437, 115.24846, 112.02124, 109.122665, 106.47847, 104.042984, 101.784836, 99.697266, 97.77704, 96.022354, 94.43007, 92.99642, 91.71637, 90.583405, 89.58937]\n"
     ]
    }
   ],
   "source": [
    "def predict_n_steps(model, X_input, n_steps):\n",
    "    # X_input es la última secuencia observada (por ejemplo, los precios de los últimos 5 días)\n",
    "    predictions = []\n",
    "    current_sequence = X_input.copy()\n",
    "    \n",
    "    for _ in range(n_steps):\n",
    "        # Hacer la predicción para el próximo punto\n",
    "        next_prediction = model.predict(current_sequence[np.newaxis, :])\n",
    "        predictions.append(next_prediction[0, 0])\n",
    "        \n",
    "        # Actualizar la secuencia de entrada con la última predicción\n",
    "        current_sequence = np.roll(current_sequence, -1, axis=0)\n",
    "        current_sequence[-1] = next_prediction\n",
    "        \n",
    "    return predictions\n",
    "\n",
    "\n",
    "last_sequence = X_test[-1]\n",
    "future_steps = 15  # Pasos a predecir\n",
    "\n",
    "predictions = predict_n_steps(model, last_sequence, future_steps)\n",
    "print(predictions)"
   ]
  },
  {
   "cell_type": "code",
   "execution_count": null,
   "metadata": {},
   "outputs": [
    {
     "data": {
      "text/plain": [
       "(133, 5, 1)"
      ]
     },
     "metadata": {},
     "output_type": "display_data"
    }
   ],
   "source": [
    "X_test.shape"
   ]
  },
  {
   "cell_type": "code",
   "execution_count": null,
   "metadata": {},
   "outputs": [
    {
     "data": {
      "text/plain": [
       "(133,)"
      ]
     },
     "metadata": {},
     "output_type": "display_data"
    }
   ],
   "source": [
    "y_test.shape"
   ]
  },
  {
   "cell_type": "code",
   "execution_count": null,
   "metadata": {},
   "outputs": [
    {
     "data": {
      "text/html": [
       "<div>\n",
       "<style scoped>\n",
       "    .dataframe tbody tr th:only-of-type {\n",
       "        vertical-align: middle;\n",
       "    }\n",
       "\n",
       "    .dataframe tbody tr th {\n",
       "        vertical-align: top;\n",
       "    }\n",
       "\n",
       "    .dataframe thead th {\n",
       "        text-align: right;\n",
       "    }\n",
       "</style>\n",
       "<table border=\"1\" class=\"dataframe\">\n",
       "  <thead>\n",
       "    <tr style=\"text-align: right;\">\n",
       "      <th></th>\n",
       "      <th>Predictions</th>\n",
       "      <th>Actuals</th>\n",
       "    </tr>\n",
       "  </thead>\n",
       "  <tbody>\n",
       "    <tr>\n",
       "      <th>0</th>\n",
       "      <td>118.674370</td>\n",
       "      <td>204.0</td>\n",
       "    </tr>\n",
       "    <tr>\n",
       "      <th>1</th>\n",
       "      <td>115.248459</td>\n",
       "      <td>191.0</td>\n",
       "    </tr>\n",
       "    <tr>\n",
       "      <th>2</th>\n",
       "      <td>112.021240</td>\n",
       "      <td>177.0</td>\n",
       "    </tr>\n",
       "    <tr>\n",
       "      <th>3</th>\n",
       "      <td>109.122665</td>\n",
       "      <td>179.0</td>\n",
       "    </tr>\n",
       "    <tr>\n",
       "      <th>4</th>\n",
       "      <td>106.478470</td>\n",
       "      <td>186.0</td>\n",
       "    </tr>\n",
       "    <tr>\n",
       "      <th>5</th>\n",
       "      <td>104.042984</td>\n",
       "      <td>163.0</td>\n",
       "    </tr>\n",
       "    <tr>\n",
       "      <th>6</th>\n",
       "      <td>101.784836</td>\n",
       "      <td>161.0</td>\n",
       "    </tr>\n",
       "    <tr>\n",
       "      <th>7</th>\n",
       "      <td>99.697266</td>\n",
       "      <td>164.0</td>\n",
       "    </tr>\n",
       "    <tr>\n",
       "      <th>8</th>\n",
       "      <td>97.777039</td>\n",
       "      <td>171.0</td>\n",
       "    </tr>\n",
       "    <tr>\n",
       "      <th>9</th>\n",
       "      <td>96.022354</td>\n",
       "      <td>178.0</td>\n",
       "    </tr>\n",
       "  </tbody>\n",
       "</table>\n",
       "</div>"
      ],
      "text/plain": [
       "   Predictions  Actuals\n",
       "0   118.674370    204.0\n",
       "1   115.248459    191.0\n",
       "2   112.021240    177.0\n",
       "3   109.122665    179.0\n",
       "4   106.478470    186.0\n",
       "5   104.042984    163.0\n",
       "6   101.784836    161.0\n",
       "7    99.697266    164.0\n",
       "8    97.777039    171.0\n",
       "9    96.022354    178.0"
      ]
     },
     "metadata": {},
     "output_type": "display_data"
    }
   ],
   "source": [
    "comparativa = pd.DataFrame(data={'Predictions':predictions[:10], 'Actuals':y_test[:10]})\n",
    "comparativa"
   ]
  },
  {
   "cell_type": "code",
   "execution_count": null,
   "metadata": {},
   "outputs": [
    {
     "name": "stdout",
     "output_type": "stream",
     "text": [
      "\u001b[1m5/5\u001b[0m \u001b[32m━━━━━━━━━━━━━━━━━━━━\u001b[0m\u001b[37m\u001b[0m \u001b[1m0s\u001b[0m 4ms/step \n"
     ]
    },
    {
     "data": {
      "text/html": [
       "<div>\n",
       "<style scoped>\n",
       "    .dataframe tbody tr th:only-of-type {\n",
       "        vertical-align: middle;\n",
       "    }\n",
       "\n",
       "    .dataframe tbody tr th {\n",
       "        vertical-align: top;\n",
       "    }\n",
       "\n",
       "    .dataframe thead th {\n",
       "        text-align: right;\n",
       "    }\n",
       "</style>\n",
       "<table border=\"1\" class=\"dataframe\">\n",
       "  <thead>\n",
       "    <tr style=\"text-align: right;\">\n",
       "      <th></th>\n",
       "      <th>Predictions</th>\n",
       "      <th>Actuals</th>\n",
       "    </tr>\n",
       "  </thead>\n",
       "  <tbody>\n",
       "    <tr>\n",
       "      <th>0</th>\n",
       "      <td>222.915802</td>\n",
       "      <td>204.0</td>\n",
       "    </tr>\n",
       "    <tr>\n",
       "      <th>1</th>\n",
       "      <td>188.062286</td>\n",
       "      <td>191.0</td>\n",
       "    </tr>\n",
       "    <tr>\n",
       "      <th>2</th>\n",
       "      <td>180.246765</td>\n",
       "      <td>177.0</td>\n",
       "    </tr>\n",
       "    <tr>\n",
       "      <th>3</th>\n",
       "      <td>165.908432</td>\n",
       "      <td>179.0</td>\n",
       "    </tr>\n",
       "    <tr>\n",
       "      <th>4</th>\n",
       "      <td>171.284546</td>\n",
       "      <td>186.0</td>\n",
       "    </tr>\n",
       "    <tr>\n",
       "      <th>...</th>\n",
       "      <td>...</td>\n",
       "      <td>...</td>\n",
       "    </tr>\n",
       "    <tr>\n",
       "      <th>128</th>\n",
       "      <td>125.011070</td>\n",
       "      <td>125.0</td>\n",
       "    </tr>\n",
       "    <tr>\n",
       "      <th>129</th>\n",
       "      <td>120.520248</td>\n",
       "      <td>125.0</td>\n",
       "    </tr>\n",
       "    <tr>\n",
       "      <th>130</th>\n",
       "      <td>122.449524</td>\n",
       "      <td>124.0</td>\n",
       "    </tr>\n",
       "    <tr>\n",
       "      <th>131</th>\n",
       "      <td>121.226761</td>\n",
       "      <td>122.0</td>\n",
       "    </tr>\n",
       "    <tr>\n",
       "      <th>132</th>\n",
       "      <td>118.674370</td>\n",
       "      <td>115.0</td>\n",
       "    </tr>\n",
       "  </tbody>\n",
       "</table>\n",
       "<p>133 rows × 2 columns</p>\n",
       "</div>"
      ],
      "text/plain": [
       "     Predictions  Actuals\n",
       "0     222.915802    204.0\n",
       "1     188.062286    191.0\n",
       "2     180.246765    177.0\n",
       "3     165.908432    179.0\n",
       "4     171.284546    186.0\n",
       "..           ...      ...\n",
       "128   125.011070    125.0\n",
       "129   120.520248    125.0\n",
       "130   122.449524    124.0\n",
       "131   121.226761    122.0\n",
       "132   118.674370    115.0\n",
       "\n",
       "[133 rows x 2 columns]"
      ]
     },
     "metadata": {},
     "output_type": "display_data"
    }
   ],
   "source": [
    "train_predictions = model.predict(X_test).flatten()\n",
    "train_results = pd.DataFrame(data = {'Predictions':train_predictions, 'Actuals':y_test})\n",
    "train_results"
   ]
  },
  {
   "cell_type": "code",
   "execution_count": null,
   "metadata": {},
   "outputs": [
    {
     "data": {
      "image/png": "[encoded data removed]",
      "text/plain": [
       "<Figure size 640x480 with 1 Axes>"
      ]
     },
     "metadata": {},
     "output_type": "display_data"
    },
    {
     "data": {
      "text/plain": [
       "<Figure size 640x480 with 0 Axes>"
      ]
     },
     "metadata": {},
     "output_type": "display_data"
    }
   ],
   "source": [
    "plt.plot(train_results['Predictions'])\n",
    "plt.plot(train_results['Actuals'])\n",
    "# Suponiendo que tienes las predicciones y los intervalos de confianza en train_results\n",
    "upper_bound = train_results['Predictions'] + 23\n",
    "lower_bound = train_results['Predictions'] - 23\n",
    "\n",
    "plt.fill_between(train_results.index, lower_bound, upper_bound, color='green', alpha=0.2)\n",
    "plt.legend(['Train Predictions', 'Actual Values', 'Confidence Interval'])\n",
    "plt.show()\n",
    "plt.clf()"
   ]
  },
  {
   "cell_type": "code",
   "execution_count": null,
   "metadata": {},
   "outputs": [],
   "source": [
    "mae = tf.keras.losses.MeanAbsoluteError()"
   ]
  },
  {
   "cell_type": "code",
   "execution_count": null,
   "metadata": {},
   "outputs": [],
   "source": [
    "from sklearn.metrics import mean_absolute_error"
   ]
  },
  {
   "cell_type": "code",
   "execution_count": null,
   "metadata": {},
   "outputs": [
    {
     "name": "stdout",
     "output_type": "stream",
     "text": [
      "El error obtenido con LSTM es de 0.07€\n"
     ]
    }
   ],
   "source": [
    "result = mean_absolute_error(train_results['Actuals'], train_results['Predictions'])\n",
    "print(f\"El error obtenido con LSTM es de {round((result / 100), 2)}€\")"
   ]
  },
  {
   "cell_type": "markdown",
   "metadata": {},
   "source": [
    "Tenemos un error medio absoluto de 11 céntimos cuando queremos predecir el día siguiente con una ventana de tiempo (número de días de referencia) de 5 días."
   ]
  },
  {
   "cell_type": "code",
   "execution_count": null,
   "metadata": {},
   "outputs": [
    {
     "data": {
      "text/plain": [
       "count    10.000000\n",
       "mean     71.313032\n",
       "std       9.375930\n",
       "min      58.957016\n",
       "25%      64.471741\n",
       "50%      71.550148\n",
       "75%      78.579033\n",
       "max      85.325630\n",
       "dtype: float64"
      ]
     },
     "metadata": {},
     "output_type": "display_data"
    }
   ],
   "source": [
    "lstm_error = abs(comparativa['Actuals'] - comparativa['Predictions'])\n",
    "lstm_error.describe() # Aquí podemos ver la distribución de nuestra pérdida a la hora de hacer la predicción."
   ]
  },
  {
   "cell_type": "code",
   "execution_count": null,
   "metadata": {},
   "outputs": [
    {
     "data": {
      "text/plain": [
       "<function matplotlib.pyplot.clf() -> 'None'>"
      ]
     },
     "metadata": {},
     "output_type": "display_data"
    },
    {
     "data": {
      "image/png": "[encoded data removed]",
      "text/plain": [
       "<Figure size 640x480 with 1 Axes>"
      ]
     },
     "metadata": {},
     "output_type": "display_data"
    }
   ],
   "source": [
    "plt.hist(lstm_error)\n",
    "plt.plot()\n",
    "plt.clf"
   ]
  },
  {
   "cell_type": "code",
   "execution_count": null,
   "metadata": {},
   "outputs": [
    {
     "data": {
      "text/plain": [
       "count    10.000000\n",
       "mean     70.879372\n",
       "std      22.737464\n",
       "min      30.364578\n",
       "25%      55.555784\n",
       "50%      80.909554\n",
       "75%      89.017435\n",
       "max      91.142494\n",
       "dtype: float64"
      ]
     },
     "metadata": {},
     "output_type": "display_data"
    }
   ],
   "source": [
    "value2 = abs(comparativa['Actuals'] - comparativa['Predictions'])\n",
    "value2.describe() "
   ]
  },
  {
   "cell_type": "markdown",
   "metadata": {},
   "source": [
    "Tenemos una media de 70 céntimos de error cuando queremos predecir 15 días hacia adelante utilizando una ventana de tiempo (referencia de precios) de los últimos 5 días."
   ]
  }
 ],
 "metadata": {
  "kernelspec": {
   "display_name": "Python 3",
   "language": "python",
   "name": "python3"
  },
  "language_info": {
   "codemirror_mode": {
    "name": "ipython",
    "version": 3
   },
   "file_extension": ".py",
   "mimetype": "text/x-python",
   "name": "python",
   "nbconvert_exporter": "python",
   "pygments_lexer": "ipython3",
   "version": "3.9.6"
  }
 },
 "nbformat": 4,
 "nbformat_minor": 2
}
